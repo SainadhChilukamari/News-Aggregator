{
 "cells": [
  {
   "cell_type": "code",
   "execution_count": 1,
   "metadata": {},
   "outputs": [],
   "source": [
    "import pandas as pd\n",
    "import numpy as np\n",
    "import pickle\n",
    "import string\n",
    "import sklearn\n",
    "from time import time\n",
    "import sklearn\n",
    "import matplotlib.pyplot as plt\n",
    "import nltk\n",
    "from nltk.stem.porter import PorterStemmer\n",
    "from nltk.corpus import stopwords\n",
    "import string\n",
    "from sklearn.preprocessing import LabelEncoder\n",
    "import pickle\n",
    "from sklearn.externals import joblib"
   ]
  },
  {
   "cell_type": "code",
   "execution_count": 2,
   "metadata": {},
   "outputs": [],
   "source": [
    "newsDF = pd.read_csv(\"./uci-news-aggregator.csv\")"
   ]
  },
  {
   "cell_type": "code",
   "execution_count": 3,
   "metadata": {},
   "outputs": [
    {
     "data": {
      "text/html": [
       "<div>\n",
       "<style scoped>\n",
       "    .dataframe tbody tr th:only-of-type {\n",
       "        vertical-align: middle;\n",
       "    }\n",
       "\n",
       "    .dataframe tbody tr th {\n",
       "        vertical-align: top;\n",
       "    }\n",
       "\n",
       "    .dataframe thead th {\n",
       "        text-align: right;\n",
       "    }\n",
       "</style>\n",
       "<table border=\"1\" class=\"dataframe\">\n",
       "  <thead>\n",
       "    <tr style=\"text-align: right;\">\n",
       "      <th></th>\n",
       "      <th>ID</th>\n",
       "      <th>TITLE</th>\n",
       "      <th>URL</th>\n",
       "      <th>PUBLISHER</th>\n",
       "      <th>CATEGORY</th>\n",
       "      <th>STORY</th>\n",
       "      <th>HOSTNAME</th>\n",
       "      <th>TIMESTAMP</th>\n",
       "    </tr>\n",
       "  </thead>\n",
       "  <tbody>\n",
       "    <tr>\n",
       "      <th>0</th>\n",
       "      <td>1</td>\n",
       "      <td>Fed official says weak data caused by weather,...</td>\n",
       "      <td>http://www.latimes.com/business/money/la-fi-mo...</td>\n",
       "      <td>Los Angeles Times</td>\n",
       "      <td>b</td>\n",
       "      <td>ddUyU0VZz0BRneMioxUPQVP6sIxvM</td>\n",
       "      <td>www.latimes.com</td>\n",
       "      <td>1394470370698</td>\n",
       "    </tr>\n",
       "    <tr>\n",
       "      <th>1</th>\n",
       "      <td>2</td>\n",
       "      <td>Fed's Charles Plosser sees high bar for change...</td>\n",
       "      <td>http://www.livemint.com/Politics/H2EvwJSK2VE6O...</td>\n",
       "      <td>Livemint</td>\n",
       "      <td>b</td>\n",
       "      <td>ddUyU0VZz0BRneMioxUPQVP6sIxvM</td>\n",
       "      <td>www.livemint.com</td>\n",
       "      <td>1394470371207</td>\n",
       "    </tr>\n",
       "    <tr>\n",
       "      <th>2</th>\n",
       "      <td>3</td>\n",
       "      <td>US open: Stocks fall after Fed official hints ...</td>\n",
       "      <td>http://www.ifamagazine.com/news/us-open-stocks...</td>\n",
       "      <td>IFA Magazine</td>\n",
       "      <td>b</td>\n",
       "      <td>ddUyU0VZz0BRneMioxUPQVP6sIxvM</td>\n",
       "      <td>www.ifamagazine.com</td>\n",
       "      <td>1394470371550</td>\n",
       "    </tr>\n",
       "    <tr>\n",
       "      <th>3</th>\n",
       "      <td>4</td>\n",
       "      <td>Fed risks falling 'behind the curve', Charles ...</td>\n",
       "      <td>http://www.ifamagazine.com/news/fed-risks-fall...</td>\n",
       "      <td>IFA Magazine</td>\n",
       "      <td>b</td>\n",
       "      <td>ddUyU0VZz0BRneMioxUPQVP6sIxvM</td>\n",
       "      <td>www.ifamagazine.com</td>\n",
       "      <td>1394470371793</td>\n",
       "    </tr>\n",
       "    <tr>\n",
       "      <th>4</th>\n",
       "      <td>5</td>\n",
       "      <td>Fed's Plosser: Nasty Weather Has Curbed Job Gr...</td>\n",
       "      <td>http://www.moneynews.com/Economy/federal-reser...</td>\n",
       "      <td>Moneynews</td>\n",
       "      <td>b</td>\n",
       "      <td>ddUyU0VZz0BRneMioxUPQVP6sIxvM</td>\n",
       "      <td>www.moneynews.com</td>\n",
       "      <td>1394470372027</td>\n",
       "    </tr>\n",
       "    <tr>\n",
       "      <th>5</th>\n",
       "      <td>6</td>\n",
       "      <td>Plosser: Fed May Have to Accelerate Tapering Pace</td>\n",
       "      <td>http://www.nasdaq.com/article/plosser-fed-may-...</td>\n",
       "      <td>NASDAQ</td>\n",
       "      <td>b</td>\n",
       "      <td>ddUyU0VZz0BRneMioxUPQVP6sIxvM</td>\n",
       "      <td>www.nasdaq.com</td>\n",
       "      <td>1394470372212</td>\n",
       "    </tr>\n",
       "    <tr>\n",
       "      <th>6</th>\n",
       "      <td>7</td>\n",
       "      <td>Fed's Plosser: Taper pace may be too slow</td>\n",
       "      <td>http://www.marketwatch.com/story/feds-plosser-...</td>\n",
       "      <td>MarketWatch</td>\n",
       "      <td>b</td>\n",
       "      <td>ddUyU0VZz0BRneMioxUPQVP6sIxvM</td>\n",
       "      <td>www.marketwatch.com</td>\n",
       "      <td>1394470372405</td>\n",
       "    </tr>\n",
       "    <tr>\n",
       "      <th>7</th>\n",
       "      <td>8</td>\n",
       "      <td>Fed's Plosser expects US unemployment to fall ...</td>\n",
       "      <td>http://www.fxstreet.com/news/forex-news/articl...</td>\n",
       "      <td>FXstreet.com</td>\n",
       "      <td>b</td>\n",
       "      <td>ddUyU0VZz0BRneMioxUPQVP6sIxvM</td>\n",
       "      <td>www.fxstreet.com</td>\n",
       "      <td>1394470372615</td>\n",
       "    </tr>\n",
       "    <tr>\n",
       "      <th>8</th>\n",
       "      <td>9</td>\n",
       "      <td>US jobs growth last month hit by weather:Fed P...</td>\n",
       "      <td>http://economictimes.indiatimes.com/news/inter...</td>\n",
       "      <td>Economic Times</td>\n",
       "      <td>b</td>\n",
       "      <td>ddUyU0VZz0BRneMioxUPQVP6sIxvM</td>\n",
       "      <td>economictimes.indiatimes.com</td>\n",
       "      <td>1394470372792</td>\n",
       "    </tr>\n",
       "    <tr>\n",
       "      <th>9</th>\n",
       "      <td>10</td>\n",
       "      <td>ECB unlikely to end sterilisation of SMP purch...</td>\n",
       "      <td>http://www.iii.co.uk/news-opinion/reuters/news...</td>\n",
       "      <td>Interactive Investor</td>\n",
       "      <td>b</td>\n",
       "      <td>dPhGU51DcrolUIMxbRm0InaHGA2XM</td>\n",
       "      <td>www.iii.co.uk</td>\n",
       "      <td>1394470501265</td>\n",
       "    </tr>\n",
       "  </tbody>\n",
       "</table>\n",
       "</div>"
      ],
      "text/plain": [
       "   ID                                              TITLE  \\\n",
       "0   1  Fed official says weak data caused by weather,...   \n",
       "1   2  Fed's Charles Plosser sees high bar for change...   \n",
       "2   3  US open: Stocks fall after Fed official hints ...   \n",
       "3   4  Fed risks falling 'behind the curve', Charles ...   \n",
       "4   5  Fed's Plosser: Nasty Weather Has Curbed Job Gr...   \n",
       "5   6  Plosser: Fed May Have to Accelerate Tapering Pace   \n",
       "6   7          Fed's Plosser: Taper pace may be too slow   \n",
       "7   8  Fed's Plosser expects US unemployment to fall ...   \n",
       "8   9  US jobs growth last month hit by weather:Fed P...   \n",
       "9  10  ECB unlikely to end sterilisation of SMP purch...   \n",
       "\n",
       "                                                 URL             PUBLISHER  \\\n",
       "0  http://www.latimes.com/business/money/la-fi-mo...     Los Angeles Times   \n",
       "1  http://www.livemint.com/Politics/H2EvwJSK2VE6O...              Livemint   \n",
       "2  http://www.ifamagazine.com/news/us-open-stocks...          IFA Magazine   \n",
       "3  http://www.ifamagazine.com/news/fed-risks-fall...          IFA Magazine   \n",
       "4  http://www.moneynews.com/Economy/federal-reser...             Moneynews   \n",
       "5  http://www.nasdaq.com/article/plosser-fed-may-...                NASDAQ   \n",
       "6  http://www.marketwatch.com/story/feds-plosser-...           MarketWatch   \n",
       "7  http://www.fxstreet.com/news/forex-news/articl...          FXstreet.com   \n",
       "8  http://economictimes.indiatimes.com/news/inter...        Economic Times   \n",
       "9  http://www.iii.co.uk/news-opinion/reuters/news...  Interactive Investor   \n",
       "\n",
       "  CATEGORY                          STORY                      HOSTNAME  \\\n",
       "0        b  ddUyU0VZz0BRneMioxUPQVP6sIxvM               www.latimes.com   \n",
       "1        b  ddUyU0VZz0BRneMioxUPQVP6sIxvM              www.livemint.com   \n",
       "2        b  ddUyU0VZz0BRneMioxUPQVP6sIxvM           www.ifamagazine.com   \n",
       "3        b  ddUyU0VZz0BRneMioxUPQVP6sIxvM           www.ifamagazine.com   \n",
       "4        b  ddUyU0VZz0BRneMioxUPQVP6sIxvM             www.moneynews.com   \n",
       "5        b  ddUyU0VZz0BRneMioxUPQVP6sIxvM                www.nasdaq.com   \n",
       "6        b  ddUyU0VZz0BRneMioxUPQVP6sIxvM           www.marketwatch.com   \n",
       "7        b  ddUyU0VZz0BRneMioxUPQVP6sIxvM              www.fxstreet.com   \n",
       "8        b  ddUyU0VZz0BRneMioxUPQVP6sIxvM  economictimes.indiatimes.com   \n",
       "9        b  dPhGU51DcrolUIMxbRm0InaHGA2XM                 www.iii.co.uk   \n",
       "\n",
       "       TIMESTAMP  \n",
       "0  1394470370698  \n",
       "1  1394470371207  \n",
       "2  1394470371550  \n",
       "3  1394470371793  \n",
       "4  1394470372027  \n",
       "5  1394470372212  \n",
       "6  1394470372405  \n",
       "7  1394470372615  \n",
       "8  1394470372792  \n",
       "9  1394470501265  "
      ]
     },
     "execution_count": 3,
     "metadata": {},
     "output_type": "execute_result"
    }
   ],
   "source": [
    "newsDF.head(n=10)"
   ]
  },
  {
   "cell_type": "code",
   "execution_count": 4,
   "metadata": {},
   "outputs": [],
   "source": [
    "newsDF = newsDF[['TITLE','CATEGORY']]"
   ]
  },
  {
   "cell_type": "code",
   "execution_count": 5,
   "metadata": {},
   "outputs": [
    {
     "data": {
      "text/plain": [
       "422419"
      ]
     },
     "execution_count": 5,
     "metadata": {},
     "output_type": "execute_result"
    }
   ],
   "source": [
    "newsDF.shape[0]"
   ]
  },
  {
   "cell_type": "code",
   "execution_count": 6,
   "metadata": {},
   "outputs": [
    {
     "data": {
      "text/html": [
       "<div>\n",
       "<style scoped>\n",
       "    .dataframe tbody tr th:only-of-type {\n",
       "        vertical-align: middle;\n",
       "    }\n",
       "\n",
       "    .dataframe tbody tr th {\n",
       "        vertical-align: top;\n",
       "    }\n",
       "\n",
       "    .dataframe thead tr th {\n",
       "        text-align: left;\n",
       "    }\n",
       "\n",
       "    .dataframe thead tr:last-of-type th {\n",
       "        text-align: right;\n",
       "    }\n",
       "</style>\n",
       "<table border=\"1\" class=\"dataframe\">\n",
       "  <thead>\n",
       "    <tr>\n",
       "      <th></th>\n",
       "      <th colspan=\"4\" halign=\"left\">TITLE</th>\n",
       "    </tr>\n",
       "    <tr>\n",
       "      <th></th>\n",
       "      <th>count</th>\n",
       "      <th>unique</th>\n",
       "      <th>top</th>\n",
       "      <th>freq</th>\n",
       "    </tr>\n",
       "    <tr>\n",
       "      <th>CATEGORY</th>\n",
       "      <th></th>\n",
       "      <th></th>\n",
       "      <th></th>\n",
       "      <th></th>\n",
       "    </tr>\n",
       "  </thead>\n",
       "  <tbody>\n",
       "    <tr>\n",
       "      <th>b</th>\n",
       "      <td>115967</td>\n",
       "      <td>111903</td>\n",
       "      <td>Posted by Imaduddin</td>\n",
       "      <td>52</td>\n",
       "    </tr>\n",
       "    <tr>\n",
       "      <th>e</th>\n",
       "      <td>152469</td>\n",
       "      <td>146952</td>\n",
       "      <td>The article requested cannot be found! Please ...</td>\n",
       "      <td>130</td>\n",
       "    </tr>\n",
       "    <tr>\n",
       "      <th>m</th>\n",
       "      <td>45639</td>\n",
       "      <td>43719</td>\n",
       "      <td>Share this on:</td>\n",
       "      <td>9</td>\n",
       "    </tr>\n",
       "    <tr>\n",
       "      <th>t</th>\n",
       "      <td>108344</td>\n",
       "      <td>104733</td>\n",
       "      <td>Business Wire</td>\n",
       "      <td>29</td>\n",
       "    </tr>\n",
       "  </tbody>\n",
       "</table>\n",
       "</div>"
      ],
      "text/plain": [
       "           TITLE                                                             \\\n",
       "           count  unique                                                top   \n",
       "CATEGORY                                                                      \n",
       "b         115967  111903                                Posted by Imaduddin   \n",
       "e         152469  146952  The article requested cannot be found! Please ...   \n",
       "m          45639   43719                                     Share this on:   \n",
       "t         108344  104733                                      Business Wire   \n",
       "\n",
       "               \n",
       "         freq  \n",
       "CATEGORY       \n",
       "b          52  \n",
       "e         130  \n",
       "m           9  \n",
       "t          29  "
      ]
     },
     "execution_count": 6,
     "metadata": {},
     "output_type": "execute_result"
    }
   ],
   "source": [
    "newsDF.groupby('CATEGORY').describe()"
   ]
  },
  {
   "cell_type": "code",
   "execution_count": 7,
   "metadata": {},
   "outputs": [
    {
     "data": {
      "text/html": [
       "<div>\n",
       "<style scoped>\n",
       "    .dataframe tbody tr th:only-of-type {\n",
       "        vertical-align: middle;\n",
       "    }\n",
       "\n",
       "    .dataframe tbody tr th {\n",
       "        vertical-align: top;\n",
       "    }\n",
       "\n",
       "    .dataframe thead th {\n",
       "        text-align: right;\n",
       "    }\n",
       "</style>\n",
       "<table border=\"1\" class=\"dataframe\">\n",
       "  <thead>\n",
       "    <tr style=\"text-align: right;\">\n",
       "      <th></th>\n",
       "      <th>TITLE</th>\n",
       "      <th>CATEGORY</th>\n",
       "    </tr>\n",
       "  </thead>\n",
       "  <tbody>\n",
       "    <tr>\n",
       "      <th>160385</th>\n",
       "      <td>Netflix: Comcast 'Double Dipping' on Access Fees</td>\n",
       "      <td>t</td>\n",
       "    </tr>\n",
       "    <tr>\n",
       "      <th>23587</th>\n",
       "      <td>Star Wars to start filming in May, includes mu...</td>\n",
       "      <td>e</td>\n",
       "    </tr>\n",
       "    <tr>\n",
       "      <th>177337</th>\n",
       "      <td>What to Watch on Monday: Jack (Bauer) and Loui...</td>\n",
       "      <td>e</td>\n",
       "    </tr>\n",
       "    <tr>\n",
       "      <th>167080</th>\n",
       "      <td>Netflix inks deal with Verizon, should improve...</td>\n",
       "      <td>t</td>\n",
       "    </tr>\n",
       "    <tr>\n",
       "      <th>239305</th>\n",
       "      <td>Does Babs Bite The Hand That Feeds? Barbra Str...</td>\n",
       "      <td>e</td>\n",
       "    </tr>\n",
       "    <tr>\n",
       "      <th>231144</th>\n",
       "      <td>Pictures of the Aluminium Samsung Galaxy S5 Pr...</td>\n",
       "      <td>t</td>\n",
       "    </tr>\n",
       "    <tr>\n",
       "      <th>319186</th>\n",
       "      <td>Gary Oldman apologizes for offensive comments ...</td>\n",
       "      <td>e</td>\n",
       "    </tr>\n",
       "    <tr>\n",
       "      <th>349252</th>\n",
       "      <td>Another coup for Facebook: LiveRail acquisitio...</td>\n",
       "      <td>b</td>\n",
       "    </tr>\n",
       "    <tr>\n",
       "      <th>285893</th>\n",
       "      <td>Google Inc (GOOG) reportedly to launch health ...</td>\n",
       "      <td>t</td>\n",
       "    </tr>\n",
       "    <tr>\n",
       "      <th>325556</th>\n",
       "      <td>Alcohol Consumption Responsible for 1 in 10 US...</td>\n",
       "      <td>m</td>\n",
       "    </tr>\n",
       "  </tbody>\n",
       "</table>\n",
       "</div>"
      ],
      "text/plain": [
       "                                                    TITLE CATEGORY\n",
       "160385   Netflix: Comcast 'Double Dipping' on Access Fees        t\n",
       "23587   Star Wars to start filming in May, includes mu...        e\n",
       "177337  What to Watch on Monday: Jack (Bauer) and Loui...        e\n",
       "167080  Netflix inks deal with Verizon, should improve...        t\n",
       "239305  Does Babs Bite The Hand That Feeds? Barbra Str...        e\n",
       "231144  Pictures of the Aluminium Samsung Galaxy S5 Pr...        t\n",
       "319186  Gary Oldman apologizes for offensive comments ...        e\n",
       "349252  Another coup for Facebook: LiveRail acquisitio...        b\n",
       "285893  Google Inc (GOOG) reportedly to launch health ...        t\n",
       "325556  Alcohol Consumption Responsible for 1 in 10 US...        m"
      ]
     },
     "execution_count": 7,
     "metadata": {},
     "output_type": "execute_result"
    }
   ],
   "source": [
    "newsDF.sample(n=10, replace=True, random_state=99) "
   ]
  },
  {
   "cell_type": "code",
   "execution_count": 8,
   "metadata": {},
   "outputs": [
    {
     "name": "stdout",
     "output_type": "stream",
     "text": [
      "<class 'pandas.core.frame.DataFrame'>\n",
      "RangeIndex: 422419 entries, 0 to 422418\n",
      "Data columns (total 2 columns):\n",
      "TITLE       422419 non-null object\n",
      "CATEGORY    422419 non-null object\n",
      "dtypes: object(2)\n",
      "memory usage: 6.4+ MB\n"
     ]
    }
   ],
   "source": [
    "newsDF.info()"
   ]
  },
  {
   "cell_type": "code",
   "execution_count": 9,
   "metadata": {},
   "outputs": [
    {
     "name": "stdout",
     "output_type": "stream",
     "text": [
      "punctuations:  !\"#$%&'()*+,-./:;<=>?@[\\]^_`{|}~\n"
     ]
    }
   ],
   "source": [
    "print(\"punctuations: \", string.punctuation)"
   ]
  },
  {
   "cell_type": "code",
   "execution_count": 10,
   "metadata": {
    "scrolled": true
   },
   "outputs": [
    {
     "name": "stdout",
     "output_type": "stream",
     "text": [
      "stopwords {'of', \"doesn't\", 'shan', 'an', 'each', 'itself', 'their', \"needn't\", 'i', 'same', 'for', 'his', 'are', 'them', 'because', 'the', 'again', 'other', 'mightn', \"it's\", \"hasn't\", 'when', 'down', 'more', 'but', 'whom', 'her', \"mightn't\", 'how', 'during', 'at', \"didn't\", 'yours', 'these', 't', 'shouldn', 'or', 'd', 'very', 'which', 'out', \"aren't\", 'him', 'don', \"that'll\", 'you', 'aren', \"wasn't\", 'he', 'was', 'all', 'with', \"wouldn't\", 'herself', 'doesn', \"haven't\", 'there', 'isn', 'while', 'they', 'after', 'until', 'had', 'in', 'wasn', \"hadn't\", 'those', 'who', 'no', 'above', 'its', 'into', 'now', 'ain', 'am', 'hadn', \"shan't\", 'such', 'me', 'ourselves', 'ours', 'has', 'too', 'myself', 'than', 'just', 'what', \"don't\", 'she', 'will', 're', 'our', 'm', 'll', 'we', 'been', 'here', 'your', 'why', 'haven', \"you've\", 'doing', 'yourself', 'it', 'have', 'yourselves', 'hasn', \"won't\", 'won', 'only', \"shouldn't\", 'theirs', \"you're\", 'most', 'having', 'can', 'does', 'over', 'both', 'my', 'on', 'did', 'a', 'didn', 'below', 'this', 'not', 'and', 'from', \"should've\", 'few', 'some', 'were', 'further', 'hers', 'needn', 'do', 'about', 'is', 'themselves', 'where', 's', 'be', 'between', 'wouldn', 'through', 'off', 'y', 'under', 'by', 'own', 'o', \"you'll\", 'against', 'that', \"mustn't\", \"she's\", \"isn't\", 'if', 'any', 'nor', 'should', \"you'd\", 'so', 'mustn', 'couldn', \"couldn't\", 'then', 'as', 'once', 'weren', \"weren't\", 'before', 've', 'to', 'up', 'ma', 'himself', 'being'}\n"
     ]
    },
    {
     "name": "stderr",
     "output_type": "stream",
     "text": [
      "[nltk_data] Downloading package stopwords to\n",
      "[nltk_data]     /Users/dharanidharsamudrala/nltk_data...\n",
      "[nltk_data]   Package stopwords is already up-to-date!\n"
     ]
    }
   ],
   "source": [
    "nltk.download('stopwords')\n",
    "stop_words = set(stopwords.words('english'))\n",
    "print(\"stopwords\", stop_words)\n",
    "porter = PorterStemmer()"
   ]
  },
  {
   "cell_type": "code",
   "execution_count": 11,
   "metadata": {},
   "outputs": [],
   "source": [
    "def preprocess(title):\n",
    "        \n",
    "    \"\"\" perform lowercase, remove punctuations and then perform stemming and then return string\"\"\"\n",
    "    \n",
    "    \"\"\" convert to lower case\"\"\"\n",
    "    title = title.lower()\n",
    "    \n",
    "    \"\"\" remove punctuation \"\"\"\n",
    "    title = title.translate(str.maketrans(\"\" , \"\", string.punctuation))\n",
    "    \n",
    "    \"\"\" split the string to tokens \"\"\"\n",
    "    word_data = title.split()\n",
    "    \n",
    "    \"\"\" remove stopwords \"\"\"\n",
    "    new_word_data = []\n",
    "    for token in word_data:\n",
    "        if token not in stop_words:\n",
    "            new_word_data.append(token)\n",
    "    \n",
    "    new_title = \"\"\n",
    "    \n",
    "    \"\"\" define porter stemmer - perform stemming \"\"\"\n",
    "    for word in new_word_data:\n",
    "        new_title += porter.stem(word) + \" \"\n",
    "        \n",
    "    return new_title"
   ]
  },
  {
   "cell_type": "code",
   "execution_count": 12,
   "metadata": {},
   "outputs": [],
   "source": [
    "newsDF['TITLE'] = [preprocess(title) for title in newsDF['TITLE']]"
   ]
  },
  {
   "cell_type": "code",
   "execution_count": 13,
   "metadata": {},
   "outputs": [],
   "source": [
    "features = newsDF['TITLE']"
   ]
  },
  {
   "cell_type": "code",
   "execution_count": 14,
   "metadata": {},
   "outputs": [],
   "source": [
    "newsDF['CATEGORY'] = newsDF.CATEGORY.map({'b':0,'e':1,'m':2,'t':3})\n",
    "labels = newsDF['CATEGORY']"
   ]
  },
  {
   "cell_type": "code",
   "execution_count": 18,
   "metadata": {},
   "outputs": [],
   "source": [
    "#pickle.dump( features, open(\"your_features.csv\", \"wb\") )\n",
    "#pickle.dump( labels, open(\"your_labels.csv\", \"wb\") )"
   ]
  },
  {
   "cell_type": "code",
   "execution_count": 15,
   "metadata": {},
   "outputs": [
    {
     "data": {
      "text/html": [
       "<div>\n",
       "<style scoped>\n",
       "    .dataframe tbody tr th:only-of-type {\n",
       "        vertical-align: middle;\n",
       "    }\n",
       "\n",
       "    .dataframe tbody tr th {\n",
       "        vertical-align: top;\n",
       "    }\n",
       "\n",
       "    .dataframe thead th {\n",
       "        text-align: right;\n",
       "    }\n",
       "</style>\n",
       "<table border=\"1\" class=\"dataframe\">\n",
       "  <thead>\n",
       "    <tr style=\"text-align: right;\">\n",
       "      <th></th>\n",
       "      <th>TITLE</th>\n",
       "      <th>CATEGORY</th>\n",
       "    </tr>\n",
       "  </thead>\n",
       "  <tbody>\n",
       "    <tr>\n",
       "      <th>160385</th>\n",
       "      <td>netflix comcast doubl dip access fee</td>\n",
       "      <td>3</td>\n",
       "    </tr>\n",
       "    <tr>\n",
       "      <th>23587</th>\n",
       "      <td>star war start film may includ muchlov r2d2</td>\n",
       "      <td>1</td>\n",
       "    </tr>\n",
       "    <tr>\n",
       "      <th>177337</th>\n",
       "      <td>watch monday jack bauer loui ck make triumphan...</td>\n",
       "      <td>1</td>\n",
       "    </tr>\n",
       "    <tr>\n",
       "      <th>167080</th>\n",
       "      <td>netflix ink deal verizon improv stream subscrib</td>\n",
       "      <td>3</td>\n",
       "    </tr>\n",
       "    <tr>\n",
       "      <th>239305</th>\n",
       "      <td>bab bite hand feed barbra streisand find sex</td>\n",
       "      <td>1</td>\n",
       "    </tr>\n",
       "    <tr>\n",
       "      <th>231144</th>\n",
       "      <td>pictur aluminium samsung galaxi s5 prime frust...</td>\n",
       "      <td>3</td>\n",
       "    </tr>\n",
       "    <tr>\n",
       "      <th>319186</th>\n",
       "      <td>gari oldman apolog offens comment ahol</td>\n",
       "      <td>1</td>\n",
       "    </tr>\n",
       "    <tr>\n",
       "      <th>349252</th>\n",
       "      <td>anoth coup facebook liverail acquisit put near...</td>\n",
       "      <td>0</td>\n",
       "    </tr>\n",
       "    <tr>\n",
       "      <th>285893</th>\n",
       "      <td>googl inc goog reportedli launch health data p...</td>\n",
       "      <td>3</td>\n",
       "    </tr>\n",
       "    <tr>\n",
       "      <th>325556</th>\n",
       "      <td>alcohol consumpt respons 1 10 us death cdc</td>\n",
       "      <td>2</td>\n",
       "    </tr>\n",
       "  </tbody>\n",
       "</table>\n",
       "</div>"
      ],
      "text/plain": [
       "                                                    TITLE  CATEGORY\n",
       "160385              netflix comcast doubl dip access fee          3\n",
       "23587        star war start film may includ muchlov r2d2          1\n",
       "177337  watch monday jack bauer loui ck make triumphan...         1\n",
       "167080   netflix ink deal verizon improv stream subscrib          3\n",
       "239305      bab bite hand feed barbra streisand find sex          1\n",
       "231144  pictur aluminium samsung galaxi s5 prime frust...         3\n",
       "319186            gari oldman apolog offens comment ahol          1\n",
       "349252  anoth coup facebook liverail acquisit put near...         0\n",
       "285893  googl inc goog reportedli launch health data p...         3\n",
       "325556        alcohol consumpt respons 1 10 us death cdc          2"
      ]
     },
     "execution_count": 15,
     "metadata": {},
     "output_type": "execute_result"
    }
   ],
   "source": [
    "newsDF.sample(n=10, replace=True, random_state=99)"
   ]
  },
  {
   "cell_type": "code",
   "execution_count": 16,
   "metadata": {},
   "outputs": [
    {
     "name": "stdout",
     "output_type": "stream",
     "text": [
      "No. of rows in the features_train: 316814\n",
      "No. of rows in the features_test: 105605\n"
     ]
    }
   ],
   "source": [
    "\"\"\" splitting the data into training and testing sets \"\"\"\n",
    "from sklearn.model_selection import train_test_split\n",
    "features_train, features_test, labels_train, labels_test = train_test_split(features, labels, test_size=0.25, random_state=42, shuffle= True)\n",
    "print('No. of rows in the features_train: {}'.format(features_train.shape[0]))\n",
    "print('No. of rows in the features_test: {}'.format(features_test.shape[0]))"
   ]
  },
  {
   "cell_type": "code",
   "execution_count": 17,
   "metadata": {},
   "outputs": [
    {
     "name": "stdout",
     "output_type": "stream",
     "text": [
      "(316814, 47244)\n",
      "Non-zero occurences 2192611\n"
     ]
    }
   ],
   "source": [
    "\"\"\" unstructured to structured data\"\"\"\n",
    "from sklearn.feature_extraction.text import TfidfVectorizer\n",
    "vectorizer = TfidfVectorizer()\n",
    "features_train = vectorizer.fit_transform(features_train)\n",
    "feature_names = vectorizer.get_feature_names()\n",
    "#print(feature_names[:150])\n",
    "print(features_train.shape)\n",
    "print(\"Non-zero occurences\", features_train.nnz)"
   ]
  },
  {
   "cell_type": "code",
   "execution_count": 18,
   "metadata": {},
   "outputs": [
    {
     "name": "stdout",
     "output_type": "stream",
     "text": [
      "['000', '001', '0019', '002', '003', '0030', '003shr', '004', '005', '0050', '005930', '006', '0063', '007', '007style', '008', '009', '01', '010', '0100', '01042014', '0107', '01072014', '011', '012', '0120', '013', '0130', '0135', '0138', '014', '014pc', '015', '016', '017', '018', '019', '02', '020', '02062014', '02072014cousteau', '021', '0220', '023', '024', '0247', '025', '025pc', '026', '027', '028', '029', '029pc', '03', '030', '03062014franc', '03062014french', '03072014cousteau', '030914', '030pc', '0310', '031214', '031814', '032', '0321', '0325', '032514', '0327', '032814', '033', '0330', '0331', '033114', '033pc', '034', '0357', '036', '036pc', '037', '038', '039', '0390', '0392', '039best', '039conscious', '039pregnant', '039share', '04', '040', '04042014holcim', '040614', '040714', '041', '04102014', '041214', '0414', '0415', '041514', '0416', '0418', '041814', '042', '042114', '0424', '042514', '0429', '042pc', '043', '044', '044pc', '0452014', '046', '046pc', '047', '048', '049', '049pc', '05', '050', '050514', '05052014', '05052014u', '050614', '050814', '051', '0512', '0516', '051pc', '052', '052014', '052114', '052414', '052514', '052pc', '053', '0534', '054', '0541', '055', '056', '057', '057pc', '05b', '05pc', '05updat', '06', '060', '0600', '0603', '06042014holcim', '06052014matern', '06052014ub', '06072014global', '06072014huge', '06072014public', '061', '0613', '061514', '061714', '062', '0621', '0623', '0624', '062514', '0626', '0629', '062914', '063', '0630', '06302014', '063pc', '0640', '0645', '065', '0658', '0659', '066', '068', '068pc', '069', '06pct', '07', '070', '070114', '0702', '07042014', '07042014dutch', '07052014air', '070614', '0707', '0708', '0709', '071014decbizf', '0713', '071614', '071714', '072', '0723', '0728', '073', '073014decbizbrief', '073014decbiztwitt', '0736', '0741', '0745', '077', '08', '0801', '08042014west', '08052014eurovis', '08072014delay', '08072014more', '08072014swiss', '0816', '082', '0823', '0829', '083', '0833', '084', '0846', '085', '0850', '0859', '08780', '08790', '09', '090', '09052014omnicom', '091', '0924', '09260', '09280', '09290', '0929009320', '09350', '0938', '09450', '0955', '096', '097', '099', '0992', '0day', '0ink', '0s', '0x8004804e', '10', '100', '1000', '10000', '100000', '1000000', '100000000', '1000000000000', '1000001', '100000barrel', '10000km', '10000m', '10000yearold', '1000apil', '1000meteorsperhour', '1000perday', '1000perpil', '1000point', '100150', '1001am', '100200', '1003', '1003bn', '1004am', '10052014amazon', '1005am', '10069', '10072014bnp', '100b', '100billion', '100bn', '100car', '100day', '100discount', '100gb', '100gbp', '100gbsec', '100k', '100kg', '100m', '100mhz', '100million', '100mn', '100month', '100pm', '100pm200pm', '100pound', '100th', '100ton', '100year', '100yearold', '100yearoldman', '100yr', '101', '1010', '10100', '101099', '1011', '1011900', '1013', '10130', '1014', '1014050', '1015', '10150', '10160', '10170', '1018', '101b', '101inch', '101m', '102', '1020', '102000', '1020like', '1021', '1022am', '1023am', '1024', '1025', '10250', '102725', '102b', '102bn', '102nd', '103', '10300', '1030am', '1033am', '1035', '10370', '1039', '103m', '104', '1040', '1041am', '1043', '10450', '1047', '1047am', '1048', '1048am', '104b', '104barrel', '104m', '105', '1050am', '1051', '1055', '1058', '1058am', '1059', '105a0227', '105in', '105inch', '105k', '105pc', '105share', '105کرونا', '106', '106000', '10635', '10650', '10680', '106b', '106billion', '106m', '106th', '107', '10700', '1072b', '1075', '10750', '1076', '1076hour', '107b', '107bbl', '107m', '108', '1080p', '1080p30fp', '1080p60fps', '10848', '108pc', '109', '1093', '1097', '1099', '109c', '109m', '10aday', '10am', '10ashar', '10b', '10bell', '10billion', '10bn', '10c', '10cent', '10centspergallon', '10cshare', '10day', '10dayold', '10digit', '10disc', '10episod', '10ft', '10gb', '10hour', '10i', '10inch', '10incher', '10k', '10km', '10kmdown', '10litr', '10m', '10mile', '10million', '10millionyearold', '10mln', '10mo', '10month', '10mw', '10newscom', '10oil', '10p', '10pager', '10pc', '10photo', '10pip', '10point', '10second', '10shr', '10th', '10week', '10x', '10x08', '10x09', '10x8', '10year', '10yearold', '10yr', '10مانشے', '11', '110', '1100', '11000', '110000', '1100016000', '1100am', '1100km', '1102am', '1104', '1106', '11062014emir', '11062014europ', '1107', '1107am', '1108', '1109', '110m', '110th', '111', '1110', '1112', '111213', '1113', '1118', '1118am', '111b', '111m', '112', '1122', '1125', '1126am', '112bbl', '112m', '112th', '112week', '113', '1130', '11300', '113000', '113084', '113085', '113086', '113087', '113088', '113089', '113090', '113091', '113092', '113093', '113094', '113095', '113096', '113097', '113098', '113099', '113100', '113101', '113102', '113103', '113104', '113105', '113106', '113107', '113108', '113109', '113110', '113111', '113112', '113113', '113114', '113115', '113116', '113117', '113118', '113119', '113120', '113121', '113122', '113123', '113124', '113125', '113126', '113127', '113128', '113129', '113130', '113131', '113132', '113133', '113134', '113135', '113136', '113137', '113138', '113139', '113140', '113141', '113142', '113143', '113144', '113145', '113146', '113147', '113148', '113149', '113150', '113151', '113152', '113153', '113154', '113155', '113156', '113157', '113158', '113159', '113160', '113161', '113162', '113163', '113164', '113165', '113166', '113167', '113168', '113169', '113170', '113171', '113172', '113173', '113174', '113175', '113176', '113177', '113178', '113179', '113180', '113181', '113182', '113183', '11322', '113334', '1135', '11350', '1135am', '1136', '1139am', '113b', '113k', '113m', '113pc', '114', '114000', '1140am', '1144', '1145', '11450', '1147', '1147am', '1148am', '1149am', '114b', '114bbl', '115', '1150', '11500', '1154', '1154am', '1159', '11599', '115b', '115bn', '115m', '115year', '116', '1164', '1166', '1168', '116bn', '116m', '116pm', '117', '117000', '1176407', '117b', '117bn', '117th', '118', '1188', '118b', '118bn', '118m', '119', '11900', '1192m', '1195', '1195m', '1196', '1196m', '11995', '119b', '119billion', '119k', '119m', '119pc', '11a', '11am', '11b', '11billionyearold', '11bn', '11bnyearold', '11d169b', '11day', '11game', '11hour', '11in', '11inch', '11k', '11k16k', '11m', '11man', '11million', '11minut', '11month', '11na', '11nation', '11pc', '11person', '11pm', '11pm1am', '11th', '11thhour', '11updat', '11week', '11year', '11yearold', '12', '120', '1200', '12000', '120000', '1200pm', '1201', '12022', '1204', '12052014alcohol', '1206', '1209', '120b', '120b130b', '120car', '120k', '120m', '120pc', '120plu', '121', '1210', '12100', '1212pm', '1213', '1214', '12150', '1218', '1219', '121m', '121pm', '122', '12205', '1220pm', '1225', '1227', '1227pm', '1228pm', '1229', '122bn', '122inch', '123', '1230130pm', '1234am', '1235', '1235b', '1236', '123loadboardcom', '124', '1241pm', '1244', '1245', '1247pm', '1249', '1249am', '124b', '124bn', '124m', '125', '12500', '125000', '1253', '1254960', '1255', '12598', '125b', '125billioneuro', '125in', '125inch', '125k', '125m', '125millionyearold', '126', '12664', '126m', '127', '1270', '127071oz', '1272', '1275', '127b', '127bn', '128', '1280', '12800', '12875', '1289', '128b', '128gb', '128m', '128share', '129', '1290', '1290oz', '1294', '1295', '129620', '1296b', '129in', '129inch', '129k', '129m', '12a', '12b', '12billion', '12billiondollar', '12bn', '12bntoyota', '12c', '12cent', '12day', '12g', '12hour', '12in', '12inch', '12letter', '12m', '12may', '12megapixel', '12million', '12minut', '12mn', '12month', '12monthold', '12mp', '12person', '12pm', '12side', '12step', '12th', '12thhealthiest', '12week', '12year', '12yearold', '12yr', '13', '130', '1300', '13000', '130000', '1300level', '1300oz', '130150k', '13052014', '13062014', '13062014anoth', '13062014mitsubishi', '1307', '130bn', '130year', '130yearold', '131', '13111', '1312', '13141', '131415', '1315', '1316', '1317', '1318', '131year', '131yearrun', '132', '1320', '1323', '13241', '1325ounc', '1326', '13272', '132m', '132pm', '133', '1330', '13385', '133k', '134', '134000', '1342', '1347', '13475', '1349', '13490015', '134b', '134m', '134million', '135', '1350', '135000', '135000kmh', '1350tpi', '1351', '135b', '135bn', '135k', '135m', '135million', '135pc', '135pm', '136', '13600', '1363', '13630', '1364', '13640', '13643', '13660', '13680', '13685', '1369', '136m', '136pc', '137', '1370', '13700', '13715', '13740', '1375', '13750', '137500', '1376', '13760', '13780', '137b', '137billionbarrel', '138', '13800', '1384531', '13850', '13880', '138b', '138m', '138million', '139', '1393', '1396236920861', '1396236921087', '1396236921313', '1396236921569', '1396236921929', '1396236922111', '1396236922720', '1396236922929', '1396236923149', '1396236923373', '1396236923702', '1396236923954', '1396236924172', '1396236924407', '1396236924712', '1396236924919', '1396236925129', '1396236925372', '1396236925710', '1396236925886', '1396236926154', '1396236926395', '1396236926688', '1396236926881', '1396236927081', '1396236927284', '1396236927739', '1396236928178', '1396236928392', '1396236928772', '1396236929132', '1396237260579', '1396237260759', '1396237260973', '1396237261159', '1396237261402', '1396237261603', '1396237261901', '1396237262084', '1396237262312', '1396237262523', '1396237262923', '1396237263171', '1396237263427', '1396237263647', '1396237263860', '1396237264095', '1396237264316', '1396237264544', '1396237264812', '1396237265005', '1396237265224', '1396237265442', '1396237265868', '1396237266137', '1396237266355', '1396237266625', '1396237266863', '1396237267022', '1396237267262', '1396237267632', '1396237268033', '1396237268365', '1396237268755', '1396237268957', '1396237269138', '1396237269377', '1396237269595', '1396237269855', '1396237270082', '1396237270392', '1396237270640', '1396237271036', '1396237271239', '1396237271449', '1397237964614', '1397237964971', '1397237965273', '1397513703600', '1397513703854', '1397513704071', '1397513704260', '1397513704550', '1397513704763', '1397513704990', '1397513705472', '1397513705668', '1397513705928', '1397513706129', '1397513706302', '1397513706594', '1397513706859', '1397513707127', '1397513707345', '1397513707680', '1397513707998', '1397513708550', '1397513708780', '1397513708978', '1397513709204', '1397513709523', '1397513709766', '1397513710018', '1397513710269', '1397513710546', '1397513710789', '1397513711032', '1397513711217', '1397513711433', '1397513711712', '1397513712122', '1397513712331', '1397513712591', '1397513712810', '1397513713044', '1397513713279', '1397513713656', '1397513713913', '1397513714093', '1397513714242', '1397513714504', '1397513714856', '1397513715133', '1397513715373', '1397513715584', '1397513715751', '1397513716003', '1397513716191', '1397513716405', '1397513716619', '1397513716787', '1397513717022', '1397513717349', '1397513717617', '1397513717810', '1397513718105', '1397513718397', '1397513718573', '1397513718733', '1397513718993', '1397513719261', '1397513719437', '1397513719672', '1397513720073', '1397513720258', '1397513720470', '1397513720683', '1397513720976', '1397513721222', '1397513722054', '1397513722248', '1397513722575', '1397513722890', '1397513723204', '1397513723426', '1397513723650', '1397513723874', '1397513724426', '1397513724634', '1397513724787', '1397513725058', '1397513725293', '1397513725594', '1397513725829', '1397513726077', '1397513726291', '1397513726692', '1397513726885', '1397513727053', '1397513727246', '1397513727674', '1397513727883', '1397513728118', '1397513728336', '1397513728621', '1397513728814', '1397513729066', '1397513729234', '13993', '1399574518790', '1399574519022', '1399574519245', '1399574519499', '1399574519840', '1399574520061', '1399574520401', '1399574520903', '1399574521119', '1399574521356', '1399574521775', '1399574521977', '1399574522235', '1399574522465', '1399574523168', '1399574523433', '1399574523668', '1399574523927', '1399574524113', '1399574524482', '1399574524750', '1399574524983', '1399574525337', '1399574525590', '1399574525798', '1399574526008', '1399574526451', '1399574526651', '1399574526898', '1399574527175', '1399574527667', '1399574527868', '1399574528086', '1399574528413', '1399574528631', '1399574528877', '1399574529074', '1399574529390', '1399574529627', '1399574530336', '1399574530525', '1399574530925', '1399574531127', '1399574531462', '1399574531736', '1399574532325', '1399574532628', '1399574532937', '1399574533609', '1399574534030', '1399575146400', '1399575146596', '1399575146842', '1399575147108', '1399575147345', '1399575147597', '1399575147816', '1399575148214', '1399575148561', '1399575148802', '1399575149031', '1399575149414', '1399575149734', '1399575149967', '1399575150159', '1399575150405', '1399575150848', '1399575151067', '1399575151299', '1399575151561', '1399575151862', '1399575152163', '1399575152391', '1399575152742', '1399575152943', '1399575153259', '1399575153603', '1399575153841', '1399575154058', '1399575154286', '1399575154774', '1399575155090', '1399575155439', '1399575156047', '1399575156326', '1399575156905', '1399575406073', '1399575406272', '1399575406808', '1399575407050', '1399575407335', '1399575407570', '1399575407910', '1399575408206', '1399575408410', '1399575408725', '1399575408930', '1399575409221', '1399575409440', '1399575409680', '1399983366398', '1399983366584', '1399983366926', '1399983367118', '1399983367406', '1399983367691', '1399985294553', '1399985294870', '1399985295162', '1399985295432', '13abccom', '13b', '13billionyear', '13bn', '13d', '13episod', '13in', '13inch', '13item', '13k', '13kg', '13m', '13megapixel', '13million', '13month', '13mp', '13new', '13pc', '13rd', '13season', '13th', '13year', '13yearold', '13yr', '13¾', '14', '140', '1400', '14000', '140000', '1404', '14042014', '14042014dutch', '1408', '1409b', '141', '1415', '1416', '1417', '1417bn', '1418', '1418bn', '142', '1420', '1421', '142136', '1426', '1427', '142b', '142bn', '143', '1430', '143m', '144', '1440', '1440p', '14498', '144k', '144m', '145', '1450', '14500', '145000', '145b', '145k', '145lb', '145m', '145pc', '145pound', '146', '14600', '146flavor', '147', '147000', '147b', '147m', '148', '1481', '1485', '1488', '1489', '148pm', '149', '1492', '14946', '1499', '14999', '149999', '14b', '14bil', '14bn', '14ghz', '14inch', '14k', '14lb', '14m', '14megapixel', '14minut', '14month', '14mp', '14nanomet', '14nm', '14pc', '14pound', '14pounder', '14th', '14week', '14wk', '14year', '14yearold', '15', '150', '1500', '15000', '150000', '1500word', '1500yearold', '150200', '15042014', '15042014credit', '15052014life', '1506', '15062014mitsubishi', '15072014', '1508', '150bn', '150hp', '150k', '150kmh', '150m', '150mark', '150plane', '150th', '151', '1511', '1513', '1517', '151b', '151km', '151kmh', '151m', '152', '1520', '15203', '1520b', '1521', '152million', '153', '1530', '1531', '153pm', '154', '15415409', '1542b', '15450', '154731', '154b', '154bn', '155', '1550', '15500', '15514', '1552', '1553', '1558', '155m', '155pc', '156', '15600', '156000', '156137', '156k', '157', '1570', '157m', '158', '158b', '158k', '159', '15900', '1599', '159b', '15b', '15b70b', '15bn', '15day', '15foot', '15gb', '15hour', '15in', '15inch', '15k', '15lb', '15m', '15mil', '15million', '15minut', '15mn', '15month', '15pc', '15second', '15th', '15time', '15x', '15year', '15yearold', '16', '160', '1600', '16000', '160000', '16042014', '160yearold', '161', '16111', '1618', '1618ad', '161bn', '162', '16234', '162bn', '163', '16300', '163000', '16342bn', '16379', '163m', '164', '16400', '16410', '1643', '16470', '16478', '1649', '1649b', '165', '16500', '16520', '16560', '16565', '16580', '16583', '1658334', '165b', '165bn', '166', '16600', '16616', '16642', '16650', '16663', '166m', '166million', '167', '167mark', '168', '168m', '168pc', '169', '16900', '16905', '16960', '16999', '169b', '169pc', '16b', '16billion', '16billiondollar', '16bn', '16citi', '16date', '16feet', '16foot', '16gb', '16hour', '16k', '16m', '16million', '16minut', '16month', '16mp', '16pc', '16percent', '16song', '16th', '16thannual', '16week', '16year', '16yearold', '16yr', '17', '170', '1700', '17000', '170000', '1700msk', '17010', '17032014pollut', '17032014vodafon', '17041', '170414', '1704x960', '17062014battl', '17062014domino', '17062014siemensmitsubishi', '17068', '170b', '170lb', '170m', '171', '17100', '1714', '1718', '1718th', '171m', '171million', '172', '1723', '1725', '1725b', '1728', '172pound', '173', '1736', '174', '174000', '1741', '174k', '175', '1750', '17500', '1753', '175b', '175m', '176', '176b', '176m', '177', '1770', '1773', '17750', '177m', '178', '17825', '178b', '178bn', '178m', '179', '179000', '1792', '1799', '17995', '179b', '179m', '17ad', '17b', '17billion', '17bn', '17carat', '17k', '17m', '17mnth', '17month', '17mth', '17pc', '17season', '17share', '17shr', '17th', '17week', '17year', '17yearold', '18', '180', '1800', '18000', '180000', '18000job', '1803', '18062014west', '1807', '1808', '180k', '180pc', '18100', '1811', '1814', '1818', '181m', '182', '1820', '1824', '1825', '182m', '183', '1834', '1836', '184000', '184244', '1845', '1849', '18499', '184k', '185', '1850', '1856', '185m', '185tb', '186', '1862', '1867', '186f', '187', '18700', '1871', '188', '1884', '18860', '1888', '189', '18acr', '18b', '18billion', '18billiondollar', '18bn', '18countri', '18ffdgpet', '18foot', '18hour', '18k', '18m', '18may', '18million', '18month', '18mth', '18pc', '18th', '18thcenturi', '18year', '18yearold', '19', '190', '1900', '19000', '1900mixalot', '1901', '19052014', '19052014100', '19052014correct', '19052014russian', '1906', '191', '1912', '1914', '19152014', '1918', '1919', '192', '1920', '19202014', '19212014', '19222014', '1923', '19232014', '1924', '1925', '19252014', '1927', '19272014', '19282014', '1928page', '1929', '192m', '193', '1930', '19302014', '1931', '19312014', '1932', '19322014', '1933', '1936', '19362014', '1937', '19372014', '1938', '194', '1940', '194000', '1941', '194107', '19412014', '19432014', '1944', '19442014', '1947', '1949', '195', '1950', '19500', '1951', '1952', '195219', '195220', '195221', '195222', '195223', '195224', '195225', '195226', '195227', '195228', '195229', '195230', '195231', '195232', '195233', '195234', '195235', '195236', '195237', '195238', '195239', '195240', '195241', '195242', '195243', '195244', '195245', '195246', '195247', '195248', '195249', '195250', '195251', '195252', '195253', '195254', '195255', '195256', '195257', '195258', '195259', '195260', '195261', '195262', '195263', '195264', '195265', '195266', '195267', '195268', '195269', '195270', '195271', '195272', '195273', '195274', '195275', '195276', '195277', '195278', '195279', '195280', '195281', '195282', '195283', '195284', '195285', '195286', '195287', '195288', '195289', '195290', '195291', '195292', '195293', '195294', '195295', '195296', '195297', '195298', '195299', '1953', '195300', '195301', '195302', '195303', '195304', '195305', '195306', '195307', '195308', '195309', '195310', '195311', '195312', '195313', '195314', '195315', '195316', '195317', '195318', '1955', '19552014', '1956', '1957', '1959', '195b', '195m', '196', '1960', '1960sstyle', '1961', '1962', '1963', '19632014', '1964', '19642014', '1965', '19651973', '1966', '1967', '1968', '1969', '19693013', '1969ish', '196m', '196pc', '197', '1970', '1972', '1973', '1974', '19741978', '1974b', '1975', '1976', '1978', '1979', '19791993', '197b', '1980', '1981', '1982', '1983', '1984', '19842016', '1985', '1987', '1988', '1989', '19890', '198m', '199', '1990', '1991', '1992', '1993', '1994', '19942004', '1995', '1996', '1997', '1998', '1999', '19995', '19999', '19b', '19billion', '19billiondollar', '19bn', '19day', '19hour', '19k', '19m', '19million', '19month', '19pc', '19th', '19thcenturi', '19week', '19year', '19yearold', '1a', '1abbvi', '1ackman', '1action', '1actress', '1adida', '1adm', '1agricultur', '1aig', '1airbu', '1airshowu', '1alibaba', '1all', '1allergan', '1amazon', '1america', '1american', '1amid', '1amonth', '1announc', '1appl', '1argentin', '1argentina', '1asml', '1astra', '1atk', '1att', '1australian', '1b', '1bank', '1barclay', '1bg', '1bhp', '1big', '1bil', '1billion', '1biodeliveri', '1blackberri', '1bln', '1bmw', '1bn', '1bnp', '1boe', '1boj', '1bouygu', '1bplu', '1brazil', '1brent', '1bristol', '1britain', '1british', '1buffett', '1c', '1california', '1calm', '1cameron', '1canada', '1canadian', '1cann', '1capit', '1cargil', '1carphon', '1cash', '1cent', '1central', '1china', '1chines', '1chrysler', '1cisco', '1citi', '1cocacola', '1coeur', '1coldwat', '1colorado', '1could', '1craft', '1credit', '1crore', '1cypru', '1d', '1data', '1day', '1death', '1design', '1detroit', '1deutsch', '1develop', '1diabet', '1digit', '1disappoint', '1disney', '1dollar', '1dow', '1durata', '1e', '1easter', '1ebay', '1ebola', '1ecb', '1egypt', '1eli', '1emir', '1employe', '1encana', '1entertain', '1er', '1eu', '1euro', '1european', '1exbp', '1experiment', '1exsac', '1facebook', '1fairfax', '1fanni', '1favor', '1fbi', '1fda', '1fear', '1fed', '1feder', '1fedex', '1fee', '1fifth', '1first', '1fitch', '1five', '1for', '1ford', '1fox', '1franc', '1french', '1fresh', '1gazprom', '1gb', '1gbp', '1ge', '1german', '1germani', '1glencor', '1gm', '1godzilla', '1googl', '1gp', '1greec', '1greek', '1greenpeac', '1gregg', '1guinea', '1gw', '1h', '1h14', '1harbing', '1harrison', '1hbo', '1health', '1hillshir', '1hkma', '1holdout', '1hollywood', '1hong', '1hotel', '1hour', '1how', '1htc', '1hungari', '1hunger', '1hyundai', '1iac', '1ice', '1ifo', '1illinoi', '1imf', '1in10000', '1in3', '1incom', '1india', '1indian', '1intern', '1intuit', '1ipo', '1ish', '1itali', '1italian', '1jagger', '1japan', '1jdcom', '1jm', '1jpmorgan', '1judg', '1jump', '1junip', '1k', '1kerri', '1kindr', '1km', '1kocherlakota', '1krispi', '1lacker', '1lennar', '1lenovo', '1liberian', '1linkedin', '1lion', '1lithuania', '1littl', '1lockhe', '1lse', '1lufthansa', '1lyondellbasel', '1m', '1macquari', '1marathon', '1marlboro', '1maryland', '1mb', '1mcdonald', '1medtron', '1merced', '1merck', '1merkel', '1microsoft', '1million', '1minut', '1mitsubishi', '1mn', '1mobiley', '1month', '1moodi', '1more', '1morgan', '1most', '1motorcyclingmarquez', '1mt', '1nasa', '1netflix', '1new', '1ni', '1nintendo', '1noah', '1north', '1novarti', '1nowotni', '1nuclear', '1ohio', '1okcupid', '1omnicom', '1on1', '1opec', '1oprah', '1orang', '1oust', '1outkast', '1palm', '1panason', '1passeng', '1patent', '1pc', '1peryear', '1pfizer', '1pilgrim', '1pistoriu', '1pm', '1potenti', '1presid', '1provinci', '1puerto', '1putin', '1q', '1q14', '1q2014', '1q2015', '1qfy14', '1qfy15', '1rare', '1rb', '1reform', '1rel', '1rescuer', '1retail', '1reviewkeaton', '1roch', '1roll', '1russia', '1s', '1samsung', '1sandisk', '1sandwich', '1sanofi', '1saudi', '1scale', '1se', '1search', '1shell', '1siemen', '1skorea', '1snapchat', '1softbank', '1solarc', '1some', '1soni', '1sothebi', '1south', '1sp', '1spacewalk', '1spacex', '1spain', '1spanish', '1st', '1stallon', '1state', '1stclass', '1stever', '1sthalf', '1stockpil', '1stplace', '1stqtr', '1stquarter', '1strait', '1sttime', '1surviv', '1swiss', '1sycamor', '1symantec', '1t', '1takata', '1target', '1tb', '1te', '1telu', '1texa', '1thai', '1threat', '1tiffani', '1to', '1toll', '1top', '1total', '1toyota', '1trillion', '1trn', '1turkey', '1turkish', '1tv', '1twitter', '1u', '1ub', '1uk', '1ukrain', '1under', '1unilev', '1unsaf', '1valeant', '1valu', '1video', '1vietnam', '1vw', '1wall', '1walmart', '1wearabl', '1week', '1white', '1who', '1william', '1wk', '1wound', '1yahoo', '1year', '1yearold', '1yogawear', '1yr', '1yum', '1½', '20', '200', '2000', '20000', '200000', '200000plu', '200002', '2000cr', '2000mile', '2000plu', '2000point', '2000r', '2000yearold', '2001', '20012004', '2002', '200212', '20022010', '2003', '200300', '20032014luxuri', '2004', '200408', '200411', '20042008', '20042649', '2005', '20051', '200510', '20052008', '20052010', '20052014', '20052014nightmar', '2006', '2007', '200711', '20072008', '2007a', '2007low', '2008', '200811', '200812', '20082009', '20082010', '20082011', '2009', '200910', '20092010', '2009low', '200bn', '200capac', '200day', '200dma', '200k', '200m', '200mln', '200mn', '200plu', '201', '2010', '201012', '201013', '201014', '20102013', '20102014', '2011', '20112014', '20118', '2011market', '2012', '201213', '20122013', '20122014', '2013', '201314', '20132014', '20134', '2013m', '2014', '20140313', '20140320', '20140325t054100z', '20140325t063120z', '20140326t175932z', '20140409t120100z', '20140419t050000z', '20140507', '20140520', '20140523t003300z', '20140528t171752z', '20140615t100000z', '20140615t170907z', '201415', '201418', '20142015', '20142016', '20142018', '20142019', '20142020', '20145', '2014a', '2014episod', '2014full', '2014i', '2014let', '2014so', '2014the', '2014tigayfirefox', '2014toyota', '2014updat', '2015', '201516', '20152016', '2016', '201617', '20162017', '2017', '2018', '2019', '20197', '201m', '201mp', '202', '2020', '2021', '2023', '2024', '2025', '2025k', '2026', '2028', '202mp', '203', '2030', '2030un', '2032014', '2033', '2034', '2035', '204', '2040', '2040b', '2048', '2049', '204b', '205', '2050', '206', '2064', '207', '207megapixel', '207mp', '207mpcamera', '207pm', '208', '2080', '209', '209000', '2098', '209k', '209p', '209plinear', '20b', '20bn', '20date', '20day', '20fold', '20foot', '20game', '20k', '20l', '20layer', '20m', '20megapixel', '20million', '20min', '20minut', '20month', '20mp', '20nm', '20pc', '20plu', '20someth', '20stadium', '20t', '20th', '20year', '20yearlong', '20yearold', '21', '210', '2100', '21000', '21032014', '2104', '21052014godard', '21052014netflix', '210714', '210715', '210716', '210717', '210718', '210719', '210720', '210721', '210722', '210723', '210m', '211238', '212', '2122', '2123', '2124', '2124sh', '2124share', '2127', '2129', '212m', '212year', '213', '213000', '2132014', '213pm', '214', '214mlntwitter', '215', '2152', '215b', '215billion', '215bn', '215in', '215inch', '215k', '215m', '215millon', '215mln', '216', '216000', '217', '2174', '217am', '217m', '21800', '218000', '218k', '219', '21900', '219440', '21990', '219b', '219pm', '21b', '21billion', '21c', '21cent', '21foot', '21inch', '21m', '21million', '21month', '21mp', '21pc', '21st', '21vianet', '21year', '21yearold', '21yrold', '22', '220', '2200', '22000', '220000', '22042014', '22042014gsk', '22042014three', '220bn', '220k', '220m', '221', '221back', '221pm', '2228', '223', '2235', '224', '224000', '2248', '2248b', '224bn', '225', '2250', '22500', '225000', '225g', '225k', '225m', '225pc', '226', '226b', '226pc', '227', '2273825', '227b', '227pm', '228', '228m', '229', '229m', '22b', '22billion', '22bn', '22episod', '22ghz', '22k', '22lb', '22m', '22month', '22nd', '22person', '22week', '22year', '22yearold', '22yo', '23', '230', '2300', '23000', '230000', '23042014who', '23052014', '23052014defiant', '23052014dog', '23052014kim', '23062014germani', '23062014slump', '230m', '230million', '231', '232', '2324', '232425', '2328', '233', '2337', '23435', '234m', '235', '236', '236k', '236m', '237bn', '239', '23b', '23billion', '23bn', '23d', '23feethigh', '23feetlong', '23ghz', '23m', '23million', '23pc', '23rd', '23year', '23yearold', '24', '240', '2400', '24000', '240000', '24002900', '24042014unilev', '24052014epic', '24052014french', '24052014ft', '24062014', '24062014bnp', '24062014u', '240k', '240m', '240pm', '240yearold', '242', '2429', '242m', '243', '243mn', '243pm', '244', '2442', '2443', '2445', '2446m', '245', '246', '247', '2470', '248000', '249', '249299', '24999', '249m', '249million', '249mn', '24b', '24bn', '24foot', '24ftwing', '24hour', '24hoursinalif', '24hr', '24k', '24m', '24meterlong', '24million', '24pc', '24share', '24th', '24week', '24year', '24yearold', '25', '250', '2500', '25000', '250000', '2501', '25032014french', '25032014health', '250gb', '250k', '250m', '250pm', '250yearold', '251000', '2513', '251pm', '2520', '2520th', '25250', '252867', '253000', '254', '25492', '254pm', '255', '2550', '25500', '2553', '255m', '256', '2560', '2560x1440', '2560x1440p', '2560x1600', '256gb', '257', '259', '2593', '25b', '25billion', '25bn', '25footwid', '25ghz', '25hr', '25k', '25m', '25million', '25minut', '25mph', '25pc', '25share', '25sort', '25th', '25x', '25year', '25yearold', '25yearsold', '26', '260', '2600', '26000', '260000', '2604', '26052014', '26052014franc', '26052014holland', '26052014niger', '26052014syria', '26062014french', '26062014neanderth', '26062014who', '260ftwide', '260m', '261', '2618m', '261b', '262', '26200', '2628', '262m', '2639', '265', '2650x1440', '265m', '266', '266m', '267', '267461', '268', '26800', '2682cm', '268m', '26999', '26b', '26billion', '26bln', '26bn', '26cent', '26ghz', '26k', '26m', '26mil', '26millioncar', '26minut', '26mln', '26pc', '26percent', '26share', '26th', '26year', '26yearold', '27', '270', '27000', '270000', '2700yearold', '27082014imf', '271', '271m', '2725', '2725share', '2728', '2729', '272m', '27351407', '275', '2750', '27500', '276', '276m', '276million', '276milliondollar', '277', '277m', '278', '2780calori', '278m', '279', '27b', '27billion', '27bn', '27l', '27liter', '27m', '27millionyearold', '27month', '27page', '27song', '27th', '27x', '27year', '27yearold', '27yearsold', '28', '280', '28032014no', '28032014spanish', '28042014french', '28042014siemensalstom', '28052014hachett', '28082014ebola', '280k', '280m', '280million', '281', '281000', '28147', '281k', '282', '2829', '282m', '283', '2830', '2834', '283page', '284000', '284k', '285', '2856', '2856m', '2856mn', '285b', '285bn', '286', '286b', '286bn', '286m', '287', '2874', '287b', '287billion', '288', '288000', '288k', '28aug', '28aug1', '28b', '28billion', '28bn', '28ghz', '28in', '28inch', '28jul2014', '28m', '28pc', '28th', '28th29th', '28yearold', '29', '290', '2900', '29000', '29019', '29042014ditch', '29042014siemen', '29062014eurozon', '29062014franc', '29072014orang', '290m', '291', '2919355', '291m', '292', '293000', '295', '2950', '29500', '29525', '295m', '29655', '2972', '298', '299', '2999', '29999', '29april', '29b', '29bn', '29c', '29k', '29m', '29pc', '29percent', '29th', '2a', '2ackman', '2action', '2air', '2airbnb', '2airshowu', '2alcatelluc', '2alcoa', '2alibaba', '2allergan', '2alstom', '2am', '2amazon', '2american', '2amgen', '2amid', '2appl', '2areva', '2argentina', '2att', '2attdirectv', '2austria', '2b', '2bank', '2bankrupt', '2barclay', '2be', '2best', '2big', '2billion', '2billiondollar', '2biocryst', '2bitcoin', '2blackberri', '2blneuro', '2bmw', '2bn', '2bnp', '2boe', '2bofa', '2bp', '2bplu', '2brent', '2british', '2bskyb', '2budget', '2bulgarian', '2bullish', '2c', '2canada', '2canadian', '2candi', '2caribbean', '2carlyl', '2cash', '2caterpillar', '2chevron', '2chicago', '2children', '2china', '2cold', '2comcast', '2craft', '2credit', '2cyber', '2d', '2data', '2day', '2dayfm', '2deadli', '2death', '2deutsch', '2disney', '2dollar', '2draghi', '2ea', '2ebay', '2ebola', '2ecb', '2egypt', '2elain', '2eleven', '2elizabeth', '2emir', '2eu', '2euro', '2europ', '2european', '2exanglo', '2export', '2fa', '2facebook', '2fcc', '2fda', '2fear', '2fed', '2feder', '2fiat', '2fifti', '2fireey', '2first', '2five', '2flicka', '2for1', '2franc', '2fresh', '2gabriel', '2gazprom', '2gb', '2ge', '2german', '2germani', '2gm', '2godzilla', '2googl', '2gsk', '2gurlitt', '2h', '2head', '2herbalif', '2hertz', '2higher', '2holcim', '2honda', '2hotel', '2hour', '2hungari', '2icahn', '2iceland', '2imf', '2in1', '2independ', '2india', '2intel', '2interpubl', '2irish', '2itali', '2italian', '2japan', '2jc', '2jdcom', '2jetblu', '2jpmorgan', '2judg', '2juri', '2k', '2kerri', '2kindr', '2kingfish', '2kiss', '2kroger', '2leg', '2lexicon', '2lg', '2libya', '2libyan', '2lockhe', '2loreal', '2m', '2maersk', '2malaysian', '2man', '2marketwir', '2mcdonald', '2microsoft', '2mil', '2million', '2minut', '2mln', '2mm', '2mn', '2mnth', '2month', '2morgan', '2mortgag', '2moscow', '2mplu', '2mulberri', '2nd', '2ndhalf', '2ndqtr', '2ndquarter', '2nestl', '2netflix', '2new', '2nexu', '2nigeria', '2nissan', '2novarti', '2nuclear', '2nvidia', '2obama', '2obamacar', '2oust', '2p', '2pac', '2pacalyps', '2pacinspir', '2part', '2pb', '2pc', '2peac', '2pfizer', '2philip', '2pimco', '2pm', '2portug', '2privat', '2procter', '2prong', '2putin', '2q', '2q14', '2qfy14', '2rage', '2rayban', '2rbss', '2red', '2renal', '2renesa', '2rescuer', '2russia', '2russian', '2s', '2sac', '2samsung', '2sarepta', '2search', '2senat', '2sequel', '2shire', '2sierra', '2sina', '2slot', '2slow', '2slower', '2smallpox', '2snack', '2snowden', '2softbank', '2soni', '2sprint', '2state', '2sth', '2strong', '2sycamor', '2target', '2tax', '2te', '2teliasonera', '2tepid', '2tesco', '2tesla', '2the', '2tiffani', '2toyota', '2truecarcom', '2turkey', '2twitter', '2u', '2ub', '2uk', '2unit', '2v2', '2valeant', '2ventur', '2vietnam', '2virgin', '2vmware', '2vodafon', '2wall', '2weaker', '2week', '2weibo', '2weight', '2well', '2west', '2white', '2whole', '2wisconsin', '2x', '2x19', '2xmen', '2year', '2yearold', '2yellen', '2yelp', '2yr', '2yum', '2zebra', '2â', '30', '300', '3000', '30000', '300000', '3000light', '3000page', '3000r', '3000yearold', '30042014alstom', '300bn', '300degre', '300fthigh', '300g', '300k', '300m', '300meg', '300million', '300mln', '301', '3013', '3013m', '301bn', '301pc', '302', '302000', '302k', '303', '3030', '304000', '304k', '305', '305bn', '305millionyearold', '306', '3062', '3069', '306b', '307', '309', '30911', '30b', '30billion', '30bn', '30day', '30foot', '30fp', '30ft', '30k', '30m', '30may', '30million', '30minut', '30month', '30mpg', '30no', '30pc', '30percent', '30pound', '30second', '30someth', '30tb', '30th', '30year', '30yearold', '30yr', '31', '310', '3100', '31000', '310000', '31014', '31032014', '31032014swistzerland', '31072', '31072014franc', '311000', '311bn', '311k', '312', '312000', '31214', '3122014', '312b', '312m', '312month', '313', '313m', '314', '3140', '31414', '315', '31514', '315k', '315m', '316', '3162014', '316am', '316bn', '316m', '317', '317000', '31714', '3172014', '317g', '317point', '318', '318000', '31814', '3182014', '318m', '319', '31914', '3192014', '319pc', '31april', '31aug', '31b', '31bn', '31day', '31m', '31month', '31pc', '31st', '31state', '31stbest', '31yearold', '32', '320', '3200', '32000', '320000', '3200yearold', '32014', '3202014', '320k', '320m', '320page', '321', '32100', '3212014', '322', '322m', '323', '323m', '324', '32414', '3242014', '3245', '3245m', '324m', '325', '32514', '325bn', '325m', '326', '326000', '32614', '3264', '3264gb', '326m', '327', '32714', '3272014', '32814', '329', '32914', '3294', '3299', '32999', '32b', '32bappl', '32bil', '32billion', '32billionpixel', '32bln', '32bn', '32cent', '32gb', '32gigapixel', '32k', '32m', '32million', '32mn', '32month', '32nd', '32pc', '32year', '32yearold', '33', '330', '3300', '33000', '3300yearold', '33014', '330squaremil', '331', '33114', '3312014', '33330', '33332', '334', '33400', '33500', '335000', '335k', '335mm', '336', '3365', '3369', '336bn', '336m', '337', '3375', '33788', '338', '338g', '339', '33990', '33b', '33billion', '33bn', '33citi', '33m', '33mn', '33rd', '33yearold', '34', '340', '3400', '34000', '342', '343', '343pm', '344', '34400', '344m', '345', '3450', '34500', '345045', '345b', '345billion', '345bn', '345g', '346', '34600', '346billion', '346bn', '34700', '3477', '348', '348g', '349', '34981', '349bn', '34b', '34gb', '34k', '34m', '34pc', '34pct', '34year', '34yearold', '35', '350', '3500', '35000', '350000', '3500mile', '3500r', '3501916114', '350m', '351', '3514', '352', '3523', '352m', '352pm', '353', '353bn', '3540', '3540calori', '3545', '355', '3569m', '356m', '357', '358', '358am', '359', '35948', '35b', '35billion', '35bn', '35day', '35foot', '35gb', '35k', '35m', '35mil', '35million', '35mm', '35mn', '35month', '35pc', '35pound', '35th', '35year', '36', '360', '3600', '36000', '360000', '360b', '360like', '360m', '360playstat', '360spheric', '360view', '360xbox', '361', '36182', '362', '363', '36340', '364', '36422', '364k', '364m', '365', '36500', '366', '367', '36770', '368', '3685', '36876', '369', '36bn', '36gb', '36k', '36m', '36name', '36th', '36yearold', '37', '370', '3700', '37000', '37000ft', '370m', '371', '372', '3722', '37400', '375', '375b', '375m', '37600', '376b', '377', '378', '37800', '378b', '37b', '37fold', '37k', '37th', '38', '380', '3800', '38000', '380000', '380mb', '381', '3814', '382', '384', '384m', '385k', '386k', '387', '389', '389ppi', '38b', '38bn', '38k', '38m', '38th', '38thrank', '38year', '39', '390', '3900', '390k', '391', '3914', '39185', '391m', '392014', '392459', '394', '3940', '394m', '398', '399', '399973', '39999', '39date', '39m', '39month', '39th', '39yearold', '3a', '3ackman', '3advis', '3agallon', '3alcoa', '3alibaba', '3all', '3am', '3amazon', '3amid', '3apach', '3appl', '3astrazeneca', '3atom', '3att', '3australia', '3b', '3bank', '3barclay', '3battl', '3be', '3billion', '3biodeliveri', '3blackberri', '3bmw', '3bn', '3boj', '3brent', '3bulgaria', '3c', '3canada', '3cb', '3cement', '3china', '3coach', '3cocacola', '3comcast', '3copilot', '3credit', '3cypru', '3d', '3daimler', '3day', '3dcapabl', '3dcaptur', '3ddisplay', '3decad', '3delphi', '3delta', '3denabl', '3destin', '3dfilm', '3dimag', '3disney', '3dlike', '3dmap', '3dmodel', '3dprint', '3dreadi', '3dscan', '3dsens', '3ebola', '3ecb', '3eli', '3episod', '3fanni', '3fed', '3fiat', '3first', '3former', '3ftc', '3fukushima', '3g', '3gamestop', '3gb', '3gm', '3googl', '3hedg', '3herbalif', '3higher', '3holcim', '3hour', '3hp', '3imf', '3in1', '3inch', '3india', '3intel', '3iraq', '3iraqi', '3japan', '3jpmorgan', '3k', '3leav', '3libyan', '3like', '3lindt', '3m', '3man', '3marathon', '3mcdonald', '3medtron', '3member', '3men', '3meter', '3mickey', '3microsoft', '3million', '3millionyear', '3millionyearold', '3minut', '3mln', '3mlnyrold', '3mn', '3mockingjay', '3month', '3mth', '3nch', '3nd', '3netflix', '3new', '3novarti', '3oil', '3omnicom', '3onlin', '3oracl', '3p', '3parent', '3part', '3paypal', '3pc', '3pilgrim', '3pizza', '3pm', '3point', '3pricelin', '3prospect', '3puerto', '3q', '3qfy14', '3rd', '3rdeyegirl', '3rdgener', '3rdgrader', '3rdhealthiest', '3rdlargest', '3rdnew', '3rdparti', '3rdqtr', '3rdquarter', '3room', '3roubl', '3s', '3samsung', '3sandisk', '3saudi', '3semiconductor', '3seri', '3session', '3share', '3side', '3sierra', '3sikorski', '3smartphon', '3soni', '3south', '3sprint', '3state', '3t', '3target', '3taxi', '3tech', '3tesla', '3thai', '3tiffani', '3tmobil', '3tw', '3twitter', '3tyson', '3u', '3uk', '3unitedhealth', '3valeant', '3ventur', '3volkswagen', '3way', '3week', '3weir', '3wk', '3x', '3year', '3yearold', '3yellen', '3yr', '3yrold', '3zebra', '3½', '3½year', '3â½year', '40', '400', '4000', '40000', '400000', '40000lb', '4000plu', '400b', '400billion', '400billiondollar', '400bn', '400feet', '400k', '400lb', '400m', '400mln', '400word', '400wordreview', '400year', '401', '4012', '401k', '402', '403', '404', '404pm', '405', '4050', '405411', '406', '406m', '406pm', '407', '4070', '40700', '4075', '407975', '407b', '408', '408hp', '409', '4094400', '40b', '40bn', '40c', '40day', '40foot', '40googl', '40hour', '40k', '40km', '40m', '40million', '40millionlisten', '40pound', '40shr', '40someth', '40th', '40year', '40yearold', '41', '410', '4100', '41000', '41014', '410m', '411', '41114', '4112014', '4114', '41156', '411maniacom', '412', '412000', '412014', '412582', '412am', '412mth', '412year', '413', '41314', '414', '41414', '4142014', '4143', '414386', '41450', '414m', '415', '41500', '415123', '41514', '415576', '416', '41666', '4166796', '417', '41714', '4172014', '417358', '417pm', '41814', '419', '41914', '41940111', '419899', '41b', '41billion', '41k', '41m', '41pc', '41st', '42', '420', '4200', '42000', '420000', '42014', '420m', '420pm', '421', '42114', '422', '42214', '4222014', '422639', '423', '42314', '42375', '4237500', '42375u', '423b', '423m', '423million', '423mn', '424', '42414', '4247', '424m', '4250', '42500', '425000', '42514', '425b', '425m', '426pm', '427', '42714', '427m', '427pm', '428', '428000', '42802', '428100', '42814', '428211', '428k', '429', '42914', '4298', '42999', '429b', '429billion', '429billiondollar', '429bn', '42b', '42bil', '42bn', '42k', '42m', '42nd', '42pc', '42song', '43', '430', '4300', '43000', '430000', '430hp', '430k', '430m', '432', '4323', '432pm', '433', '4330', '433000', '434000', '43499', '435000', '435k', '4366b', '437', '4375', '4377', '437m', '438', '43b', '43billiondollar', '43billioneuro', '43bn', '43bneuro', '43inch', '43incher', '43k', '43m', '43pc', '44', '440', '4400', '44000', '440000', '440k', '441', '442', '443', '444', '444b', '444m', '445', '445k', '446', '446000', '447', '447in', '447inch', '44800', '448bn', '449', '44999', '449b', '449m', '449million', '44bn', '44k', '44m', '44month', '44th', '44trn', '45', '450', '4500', '45000', '450000', '450k', '450m', '450mn', '450th', '451', '452', '452m', '453', '455', '4550', '4550dlr', '4550dollar', '455pm', '456', '456b', '457', '4578', '4579', '4579m', '457b', '457bn', '457m', '458', '4580', '459m', '45b', '45billion', '45bn', '45bnplu', '45c', '45gb', '45inch', '45m', '45th', '45year', '46', '4600', '46000', '460000', '4614', '4625', '464', '46400', '464k', '465', '465000', '465b', '465bn', '465m', '466', '467', '468', '468m', '46b', '46bn', '46m', '46yearsyoung', '47', '47000', '470000', '4714', '472', '472000', '472m', '473', '473673', '474', '474000', '47499', '474k', '474m', '475', '4750', '475000', '4755inch', '475m', '478', '479', '479000', '4798', '479m', '47b', '47billion', '47bn', '47in', '47inch', '47m', '47th', '48', '480', '4800', '480000', '4800foot', '4811', '4814', '482', '483', '4830cash', '483m', '484', '485', '485b', '485bn', '486', '486m', '487', '488', '489', '489000', '48b', '48bn', '48fp', '48gb', '48hour', '48in', '48inch', '48m', '48mil', '48th', '48v', '49', '490', '490000', '490k', '491', '492', '492b', '492m', '493', '494', '4944', '4944bn', '494bn', '494m', '495', '496', '497', '498', '498000', '499', '4999', '49b', '49billion', '49bn', '49er', '49k', '49m', '49pc', '49percent', '49stake', '49th', '4agallon', '4agallonplu', '4am', '4amid', '4aol', '4att', '4b', '4barclay', '4baxter', '4billion', '4bn', '4bofa', '4boj', '4brent', '4britain', '4bulgarian', '4c', '4candi', '4car', '4cement', '4cent', '4chan', '4china', '4chiquita', '4countri', '4cours', '4darden', '4day', '4decad', '4deutsch', '4ebola', '4emir', '4episod', '4ey', '4famili', '4finnish', '4food', '4footlong', '4ford', '4franc', '4furiou', '4g', '4gallon', '4gb', '4genabl', '4ghz', '4gm', '4hedg', '4honda', '4hour', '4hp', '4hr', '4icahn', '4imf', '4in', '4inch', '4j', '4jpg', '4jpmorgan', '4k', '4kqualiti', '4kreadi', '4kscore', '4kuhd', '4line', '4m', '4mm', '4month', '4monthlong', '4morgan', '4mth', '4murdoch', '4nation', '4new', '4nokia', '4od', '4oil', '4p', '4pc', '4percent', '4person', '4pg', '4pilgrim', '4pm', '4q', '4q2013', '4qfy14', '4roch', '4s', '4seat', '4seiz', '4small', '4target', '4tesla', '4texa', '4th', '4thgen', '4thirtytwo', '4thquarter', '4thseason', '4track', '4twitter', '4two', '4u', '4unitedhealth', '4vehicl', '4week', '4wk', '4x', '4x10', '4x16', '4x4', '4x5', '4yahoo', '4year', '4yearold', '4½', '4½year', '4ã4', '50', '500', '5000', '50000', '500000', '5000000', '50000person', '50000year', '50000yearold', '5000to', '500aday', '500b', '500bn', '500e', '500k', '500l', '500m', '500mile', '500million', '500mn', '500myr', '500plu', '500x', '501', '50100', '501c4', '502b', '503', '504', '5040', '504000', '505', '5050', '506', '5060', '506873', '506k', '507', '5072014', '508', '50895', '509', '50b', '50billion', '50bn', '50bnplu', '50day', '50ft', '50gb', '50in', '50inch', '50k', '50katicket', '50lb', '50m', '50million', '50mp', '50mplu', '50mw', '50nillionplu', '50pc', '50plu', '50snasdaq', '50th', '50thanniversari', '50whr', '50year', '50yearold', '51', '510', '5100', '51000', '510000', '5100053000', '51000r', '510b', '510bn', '511', '51114', '5115', '511528', '512', '512000', '51214', '5122014', '512k', '512mboptim', '513', '513b', '514', '51499', '515', '5150', '51500', '515b', '515k', '515m', '516', '517', '5179', '518', '51814', '519', '51914', '51b', '51bn', '51in', '51inch', '51k', '51m', '51st', '52', '520', '5200', '52000', '52014', '5202014', '521', '52114', '5212014', '5214', '5217', '522', '52214', '5222014', '523', '5231', '52314', '5232014', '524', '52414', '525', '52514', '525m', '525million', '526', '52614', '5262014', '526m', '527', '527b', '527kw', '528', '52814', '5287', '52898', '528mn', '529', '5299', '52b', '52billion', '52bn', '52in', '52m', '52million', '52month', '52t', '52tn', '52trillion', '52trn', '52week', '53', '530', '5300', '53000', '530000', '530m', '530pm', '531', '532', '5328', '5328mn', '533', '533m', '534', '534m', '5356309', '537', '538', '538bn', '538ppi', '539', '539m', '53b', '53billion', '53bn', '53k', '53m', '53year', '54', '540', '5400', '54000', '541', '5414', '542', '542m', '5433', '5438', '544', '545m', '547', '547am', '547b', '548', '548b', '549', '54b', '54bn', '54page', '54th', '55', '550', '5500', '55000', '550m', '550pm', '5514', '552', '553', '554', '554m', '555', '555m', '556', '558', '558b', '559mm', '55ashar', '55b', '55in', '55inch', '55m', '55pershar', '55shr', '56', '560', '5600', '56000', '560m', '560mn', '5614', '562', '56214', '564', '565', '566', '566bn', '567', '56b', '56bn', '56m', '56yr', '57', '570', '57000', '5714', '573', '573m', '574', '575', '5756m', '5760', '5774', '57b', '57bn', '57cent', '57in', '57inch', '57k', '57m', '57year', '58', '5800', '581', '5814', '581d', '581g', '581m', '582014', '5833', '583m', '585', '585b', '585bn', '586', '588', '58bn', '58footer', '58k', '58m', '58pc', '59', '590', '59000', '5900mah', '5909', '591', '5914', '59200', '5925', '595', '59628', '599', '59bn', '59inch', '59k', '59m', '59pc', '5aday', '5alibaba', '5b', '5billion', '5bn', '5boj', '5brent', '5c', '5carney', '5cent', '5credit', '5day', '5episod', '5fed', '5film', '5foot', '5foottal', '5franc', '5french', '5g', '5gconnect', '5ghz', '5gm', '5hour', '5ibm', '5in', '5inch', '5investor', '5japan', '5jpmorgan', '5k', '5kfun', '5kreadi', '5kremlin', '5litig', '5m', '5megapixel', '5minut', '5mn', '5mon', '5month', '5mp', '5new', '5obama', '5oz', '5pc', '5pm', '5point', '5properti', '5s', '5s5', '5s5c54', '5session', '5slike', '5so', '5ss', '5stage', '5star', '5texa', '5th', '5time', '5u', '5week', '5x', '5yahoo', '5year', '5yearlow', '5yearold', '5yr', '5½month', '60', '600', '6000', '60000', '600000', '60000ft', '600900', '600k', '600m', '600mhz', '600pound', '600strong', '600wpm', '602', '603', '6040', '605', '6069', '608', '60bn', '60c', '60fp', '60ghz', '60hour', '60k', '60m', '60minut', '60mln', '60pc', '60plu', '60someth', '60th', '60year', '60yearold', '61', '610', '6100', '61000', '611', '612', '613', '61314', '61321', '61398', '613m', '614', '615', '61500', '61514', '616', '61625', '61636', '617', '618', '6182014', '619', '61b', '61bn', '61m', '61pc', '62', '620', '6200', '62000', '620000', '621', '6214', '621am', '622', '622mb', '623', '62300', '6232014', '623m', '624', '62414', '6242014', '625', '62500', '625000', '625b', '625horsepow', '625hp', '625k', '625lb', '626', '627', '62714', '6278', '628', '629', '62914', '629am', '62bn', '62m', '63', '630', '6300', '63000', '6302014', '631', '6314', '632', '634', '635', '635am', '636000', '637000', '63800', '63b', '63beuro', '63bn', '63in', '63inch', '63k', '63m', '63rd', '63year', '64', '6400', '64000', '640km', '642', '642m', '6431', '6437km', '645', '6457', '646', '64750000', '648809', '649', '6499', '64999', '64b', '64billion', '64bit', '64bn', '64gb', '64k', '64m', '64th', '64yearold', '65', '650', '6500', '65000', '650000', '650k', '650m', '650million', '650mn', '651', '651m', '6520', '6554', '6569', '6570', '658', '65900', '65bn', '65k', '65metr', '65million', '65millionyearold', '65mm', '65mplu', '65share', '65shr', '65yearold', '66', '660', '660m', '662000', '662656', '6650', '66692', '667000', '667287', '667k', '667m', '66b', '66bn', '66m', '66million', '66millionyearold', '66th', '67', '670', '6700', '67000', '670000', '671', '6714', '672', '672m', '675', '6750', '675m', '676', '677000', '6775', '677k', '6795', '6799', '67billioneuro', '67p', '67pc', '67pchuryumov', '67pchuryumovgerasimenko', '67th', '68', '680', '6800', '680m', '681', '6829', '683', '6839', '683b', '685page', '686', '68600', '686mn', '687', '687th', '688', '689', '689000', '689003', '689k', '68b', '68m', '68th', '68متاثر', '69', '690', '6900', '69000', '690000', '690m', '690million', '692000', '692487', '692700', '692k', '693000', '69475', '69476', '69477', '69478', '69479', '69480', '69481', '69482', '69483', '69484', '69485', '69486', '69487', '69488', '69489', '69490', '69491', '69492', '69493', '69494', '69495', '69496', '69497', '69498', '69499', '69500', '69501', '69502', '69503', '69504', '69505', '69506', '69507', '69508', '69509', '69510', '69511', '69512', '69513', '69514', '69515', '69516', '69517', '69518', '69519', '69520', '69521', '69522', '69523', '69524', '69525', '69526', '69527', '69528', '69529', '69530', '69531', '69532', '69533', '69534', '69535', '69536', '69537', '69538', '69539', '69540', '69541', '69542', '69543', '69544', '69545', '69546', '69547', '69548', '69549', '698', '699', '6990', '6999', '699month', '69bn', '69m', '69pc', '69th', '6argentina', '6b', '6billion', '6bln', '6bn', '6brent', '6c', '6ckwh', '6core', '6day', '6dollar', '6episod', '6equal', '6esqu', '6fiat', '6fold', '6franc', '6hour', '6inch', '6incher', '6japan', '6k', '6letter', '6m', '6mile', '6million', '6minut', '6mln', '6mm', '6month', '6mth', '6murdoch', '6oil', '6pc', '6point', '6quarter', '6s', '6secfilm', '6th', '6the', '6thstraight', '6time', '6toyota', '6u', '6week', '6weekold', '6wk', '6x23', '6x6', '6year', '6yr', '70', '700', '7000', '70000', '700000', '700k', '700m', '700mhz', '700page', '701', '702', '703', '704', '705', '706', '707', '707hp', '708', '7080', '7095', '70bn', '70inch', '70k', '70lb', '70m', '70million', '70pc', '70plane', '70publish', '70share', '70th', '70year', '71', '710', '711', '712', '713', '714', '715000', '71514', '716', '71614', '717', '717am', '71814', '7196', '7199', '71b', '71bn', '71m', '71mn', '71st', '72', '720', '720000', '72014', '720p', '7214', '722000', '722014', '724', '725', '72500', '725000', '725m', '726m', '727', '729', '72b', '72bn', '72k', '72pc', '73', '730', '731', '7314', '731700', '732', '732000', '732014', '734', '735', '737', '737800', '739', '73m', '73yearold', '74', '744', '745', '74500', '74600', '749', '74pc', '74pct', '74th', '74yearold', '75', '750', '7500', '75000', '750000', '750am', '750k', '750m', '7514', '751foot', '752', '7529', '752m', '75320', '7535', '754', '755', '755pshare', '756', '756b', '757', '7574', '7579', '758', '7583', '759', '75b', '75bn', '75in', '75k', '75m', '75th', '75yearold', '76', '760', '764', '7650', '767', '76b', '76billion', '76bn', '76er', '76m', '76year', '77', '7700', '7706', '7714', '772', '772014', '7747', '7747b', '776', '777', '777300er', '777x', '778pc', '779', '77b', '77bln', '77bn', '78', '7800', '78000', '780000', '780477', '780k', '780m', '782000', '783520', '787', '78710', '7872', '7878', '7879', '7899', '78m', '78pc', '78pct', '78th', '78yearold', '79', '79000', '7914', '792p', '793000', '7935', '79607', '7968', '796b', '7974', '799', '79900', '79th', '7a', '7aday', '7b', '7billion', '7bn', '7brent', '7c', '7carat', '7day', '7episod', '7everyday', '7for', '7for1', '7i', '7in', '7inch', '7m', '7million', '7minut', '7mln', '7mn', '7mo', '7mockingbird', '7month', '7new', '7night', '7nightstand', '7oil', '7optimis', '7part', '7pc', '7pfizer', '7s', '7style', '7summit', '7t', '7th', '7thgener', '7thgrade', '7thgrader', '7tier', '7to1', '7ton', '7u', '7week', '7wk', '7x01', '7x02', '7x04', '7x05', '7x07', '7x10', '7year', '7yearold', '7yr', '80', '800', '8000', '80000', '800000', '8001', '800k', '800m', '800pm', '800pound', '801', '80188309', '8020', '80205', '80211ac', '803', '805', '807', '807m', '808', '808810', '809', '80b', '80billiondollar', '80bn', '80foothigh', '80k', '80m', '80metr', '80pc', '80sset', '80th', '80tonn', '80year', '81', '810', '8100', '811', '813', '816', '817m', '818', '818am', '819', '81base', '81equip', '81m', '81primari', '82', '820', '820000', '8200plu', '8208', '820m', '8211', '8212', '823', '823m', '824000', '824k', '825', '82563', '827am', '82jet', '82m', '82pc', '82plane', '82point', '82window', '83', '830', '8300', '830000', '830am', '830pm', '831', '832', '832c', '832mn', '835', '83billioneuro', '83bn', '83pc', '84', '840', '8400', '84000', '840000', '840m', '840mb', '841', '843', '844', '844277', '845', '846', '849', '84bn', '84cshare', '84inch', '84m', '84yearold', '85', '850', '8500', '850000', '850k', '850m', '850pc', '852', '852am', '855', '8575', '858', '858am', '858m', '859', '85b', '85bn', '85m', '85mile', '85mn', '85p', '85pc', '85percent', '85yearold', '86', '860', '86000', '860m', '866815', '86bn', '86m', '86th', '87', '8700', '87000', '8708', '874', '875', '8761', '8763', '878', '87percent', '87th', '87yearold', '88', '8800', '88000', '880000', '881nm', '883', '883000', '883k', '885', '885k', '885m', '885mn', '886000', '886815', '886k', '887', '887m', '887mn', '888', '888700', '888m', '889000', '88b', '88bn', '88c', '88k', '88m', '88pc', '88th', '88usc', '89', '890', '890000', '893000', '897', '8973600000', '897b', '897bn', '899', '8995', '899m', '899month', '89b', '89billion', '89bn', '89in', '89inch', '8am', '8argentina', '8b', '8bit', '8bn', '8bneuro', '8c', '8casesofebolaturnupinguinea27scapit', '8citi', '8core', '8day', '8foot', '8friendli', '8gb', '8hour', '8inch', '8k', '8m', '8meg', '8megapixel', '8minut', '8month', '8mp', '8oil', '8part', '8pc', '8permonth', '8pm', '8possibl', '8s', '8song', '8th', '8thgen', '8videos8day', '8week', '8x', '8year', '8yearlong', '8yearold', '8yosemit', '90', '900', '9000', '90000', '900000', '900k', '900m', '900p', '900pm', '90100', '901am', '90210', '9021opiat', '9037', '903am', '904', '905', '905am', '906am', '907', '90766', '907m', '908', '908am', '909', '909am', '90b', '90bn', '90day', '90k', '90ka', '90m', '90millionyearold', '90min', '90minut', '90mph', '90plu', '90pound', '90th', '90year', '91', '910', '9100', '91000', '911', '911am', '911text', '912', '9146', '914am', '914m', '915', '915am', '915m', '916', '916am', '916m', '917', '917am', '918', '9198', '919am', '91b', '91c', '91m', '91pc', '91yearsold', '92', '920', '9200', '921', '92120000', '921am', '921k', '922', '923', '923924', '923am', '925', '925000', '926am', '927', '927am', '92bn', '92m', '92nd', '92pc', '92pound', '93', '930', '93000', '930pm', '931', '931am', '931b', '932', '932am', '932m', '933', '933b', '935', '935am', '938am', '939', '939am', '93b', '93bn', '93m', '93million', '93mph', '93yearold', '94', '940am', '941am', '942', '943', '945', '948', '94th', '95', '950', '9500', '950m', '951k', '952am', '952m', '953am', '954', '955', '956', '957', '95b', '95bn', '95k', '95m', '95yearold', '96', '960', '96000', '962', '962m', '965', '965m', '968', '968m', '96b', '96m', '96th', '97', '970', '970000', '970700', '970m', '970million', '971000', '971k', '974', '974m', '976', '97b', '97in', '97inch', '97m', '97min', '98', '9857m', '987', '98713', '98714', '98715', '9874', '989', '989b', '98m', '98th', '99', '9900', '99149', '995', '996', '999', '9993', '9999', '999amonth', '999mo', '999month', '99game', '9am', '9b', '9billion', '9billiondollar', '9bln', '9bn', '9brent', '9c', '9inch', '9juli', '9k', '9m', '9million', '9mmbtu', '9month', '9mth', '9oil', '9pm', '9question', '9s', '9state', '9th', '9to5', '9volanti', '9volt', '9x2324', '9year', '9yearold', 'a1', 'a10', 'a101', 'a108', 'a132bn', 'a2', 'a20b', 'a250', 'a27', 'a3', 'a320', 'a340', 'a343', 'a350', 'a350xwb', 'a380', 'a4', 'a5', 'a57', 'a8', 'aa', 'aaa', 'aaaa', 'aaaarrrrrghhh', 'aaah', 'aaaoklahoma', 'aacc', 'aaco', 'aacr', 'aafa', 'aafter', 'aaic', 'aal', 'aaliyah', 'aamc', 'aan', 'aap', 'aapl', 'aaplibm', 'aaplintern', 'aardvarkrel', 'aaron', 'aarp', 'aatha', 'ab', 'aba', 'ababa', 'abadon', 'abafund', 'abandon', 'abard', 'abarth', 'abat', 'abb', 'abba', 'abbey', 'abbi', 'abbievi', 'abbot', 'abbott', 'abbrevi', 'abbv', 'abbvi', 'abbvieshir', 'abbvshpg', 'abc', 'abc27', 'abc40', 'abc6', 'abc7', 'abc7com', 'abdel', 'abderrahman', 'abdi', 'abdic', 'abdomen', 'abduct', 'abdul', 'abdullah', 'abe', 'abedini', 'abel', 'abenom', 'abercrombi', 'aberdeen', 'aberystwyth', 'abet', 'abi', 'abid', 'abil', 'abilen', 'abin', 'abject', 'abl', 'ablaz', 'abnorm', 'aboard', 'abolish', 'abomin', 'aboot', 'aborigin', 'abort', 'abortiondrug', 'abortionfund', 'abortioninduc', 'abound', 'about', 'aboutfac', 'above', 'abp', 'abq', 'abraham', 'abram', 'abramson', 'abramss', 'abreast', 'abroad', 'abrupt', 'abruptli', 'abseil', 'absenc', 'absent', 'absolut', 'absorb', 'absorpt', 'absssi', 'abstain', 'abstent', 'abstin', 'abstract', 'absurd', 'absurdli', 'abt', 'abu', 'abuja', 'abund', 'abus', 'abuse', 'abuseresist', 'abuzz', 'abydo', 'abysm', 'abyss', 'ac', 'ac300', 'aca', 'acac', 'acacia', 'academ', 'academi', 'academia', 'acadia', 'acb', 'acc', 'accavitti', 'acccus', 'acced', 'acceler', 'acceleratesupd', 'accendo', 'accent', 'accentu', 'accentur', 'accept', 'access', 'access145m', 'accesshealthct', 'accessor', 'accessori', 'accessstyl', 'accid', 'accident', 'accio', 'acclaim', 'accolad', 'accommod', 'accompani', 'accomplic', 'accomplish', 'accomplished', 'accomplishedish', 'accor', 'accord', 'accordingli', 'accost', 'accounc', 'account', 'accounts', 'accra', 'accredit', 'accuen', 'accumul', 'accur', 'accuraci', 'accus', 'accuweath', 'acdc', 'ace', 'acea', 'acelrx', 'acer', 'acerb', 'aceshowbiz', 'acess', 'acet', 'acevedo', 'achang', 'achangin', 'achc', 'achch', 'achey', 'achi', 'achiev', 'achil', 'achingli', 'achoo', 'acid', 'acidbath', 'acidif', 'acip', 'acircpound349', 'ackman', 'ackmanl', 'ackmanval', 'acknowledg', 'acl', 'aclu', 'acm', 'acmp', 'acn', 'acneremov', 'acog', 'acom', 'acotor', 'acoust', 'acp', 'acquaint', 'acquihir', 'acquir', 'acquisis', 'acquisit', 'acquisition', 'acquisitionjustic', 'acquisiton', 'acquist', 'acquit', 'acquitt', 'acqur', 'acqusit', 'acr', 'acreag', 'acrefeet', 'acria', 'acrimoni', 'acrobat', 'acronym', 'across', 'acrost', 'acroyoga', 'acsi', 'acsm', 'act', 'actavi', 'actiblizz', 'actiev', 'actinium', 'action', 'actionaid', 'actioncamera', 'actionconstancio', 'actionfil', 'actionheavi', 'actionpack', 'actionpacked', 'actionthril', 'activ', 'activis', 'activisionblizzard', 'activison', 'activist', 'activitycontrol', 'activitytrack', 'activs', 'acto', 'actor', 'actorathlet', 'actorcomedian', 'actordirector', 'actordirectorproduc', 'actorsing', 'actress', 'actressactivist', 'actresss', 'actresssing', 'actual', 'actually', 'actuari', 'acu', 'acuiti', 'acumatica', 'acupunctur', 'acura', 'acus', 'acuss', 'acut', 'ad', 'ada', 'adag', 'adam', 'adama', 'adamss', 'adanalyt', 'adap', 'adapat', 'adapt', 'adaptationclim', 'adb', 'adbas', 'adbird', 'adc', 'adcock', 'adcomm', 'add', 'addam', 'addappt', 'addedunemploy', 'addendum', 'adder', 'adderal', 'addiciton', 'addict', 'addit', 'addl', 'addon', 'address', 'adduplex', 'ade', 'adecco', 'adel', 'adelaar', 'adelaid', 'adeli', 'adelson', 'ademi', 'adenocarcinoma', 'adept', 'adequ', 'adfre', 'adhd', 'adi', 'adida', 'adidass', 'adieu', 'adig', 'adihex', 'adio', 'adirondack', 'adj', 'adject', 'adjep', 'adjourn', 'adjus', 'adjust', 'adjustabler', 'adjuv', 'adkin', 'adkinss', 'adl', 'adland', 'adler', 'adlib', 'adm', 'admin', 'administ', 'administr', 'adminsooth', 'admir', 'admiss', 'admit', 'admonish', 'adna', 'adnetwork', 'ado', 'adob', 'adolesc', 'adoni', 'adopt', 'adoptapark', 'ador', 'adork', 'adorn', 'adp', 'adr', 'adrenalinepump', 'adress', 'adrian', 'adriana', 'adriann', 'adrien', 'adrienn', 'adrift', 'adrnys', 'adrock', 'adrsn', 'ads', 'adsk', 'adspend', 'adsubsid', 'adsupport', 'adt', 'adtarget', 'adtech', 'adult', 'adulter', 'adulteri', 'adulthood', 'adultonli', 'adv', 'advanc', 'advancedstag', 'advantag', 'advantam', 'advaxi', 'adventur', 'adventurestyl', 'advers', 'adversari', 'advert', 'advertis', 'advertising2nd', 'advic', 'advil', 'advis', 'adviser', 'advisor', 'advisori', 'advoc', 'advocaci', 'advtg', 'adwar', 'adword', 'adwords', 'adã', 'adé', 'ae', 'aea', 'aecom', 'aecon', 'aedt', 'aegi', 'ael', 'aeo', 'aer', 'aereo', 'aerial', 'aerialist', 'aero', 'aerob', 'aeroflex', 'aeroflot', 'aerogrow', 'aeroh', 'aerojet', 'aerolinea', 'aeropostal', 'aerosmith', 'aerospac', 'aerospacegoogl', 'aesop', 'aesopinspir', 'aesthet', 'aetna', 'af', 'af1', 'afar', 'afb', 'afc', 'afcon', 'afdb', 'afer', 'affabl', 'affadavit', 'affair', 'affect', 'affection', 'afffleck', 'affidavit', 'affil', 'affili', 'affirm', 'affleck', 'affliat', 'afflict', 'affluent', 'affluenza', 'afforad', 'afford', 'affordable', 'affront', 'affymax', 'afg', 'afghan', 'afghanistan', 'afi', 'aficionado', 'afield', 'afikomoney', 'afk', 'afklm', 'afl', 'aflac', 'aflam', 'aflibercept', 'afloat', 'aflutt', 'afoot', 'afoul', 'afp', 'afpa', 'afpgetti', 'afraid', 'afreeza', 'afrezza', 'afrezzar', 'africa', 'africafocus', 'african', 'africanamerican', 'africapresid', 'africaupd', 'africawho', 'africia', 'afrojack', 'aft', 'after', 'aftercredit', 'aftereffect', 'aftereuroskepticrise2ceuleadersstepintofray', 'afterglow', 'afterhour', 'afterlif', 'aftermarket', 'aftermath', 'afternoon', 'afteroscar', 'afterparti', 'afterschool', 'aftersex', 'aftershock', 'aftershow', 'aftertax', 'afterthought', 'afterward', 'aftrica', 'afzal', 'ag', 'aga', 'again', 'againdeliv', 'againjustin', 'againmiley', 'againprofit', 'againstaereostreamingservic', 'agam', 'agap', 'agassiz', 'agav', 'agavin', 'agbank', 'age', 'ageinappropri', 'ageism', 'ageless', 'agelessli', 'agenc', 'agenda', 'agent', 'agenu', 'ageold', 'agerel', 'ageverifi', 'ageworld', 'aggi', 'aggrav', 'aggravat', 'aggreg', 'aggres', 'aggress', 'aggressor', 'agh', 'agharta', 'aghast', 'agil', 'agit', 'aglitt', 'agn', 'agneda', 'agnvrx', 'ago', 'agog', 'agon', 'agoni', 'agostini', 'agostiniinvisionap', 'agrad', 'agre', 'agreement', 'agribusi', 'agricol', 'agricultur', 'agrigi', 'agripuls', 'agro', 'agron', 'aground', 'agt', 'aguilera', 'aguinaldo', 'aguliera', 'ah', 'aha', 'ahad', 'ahchoo', 'ahead', 'aheaddoubledigit', 'aheadimf', 'aheadiraq', 'aheadshort', 'aheadstock', 'ahf', 'ahh', 'ahhah', 'ahhhnold', 'ahip', 'ahm', 'ahmad', 'ahmaz', 'ahn', 'ahna', 'ahnold', 'ahol', 'ahoy', 'ahread', 'ahrendt', 'ahsaa', 'ai', 'aicp', 'aid', 'aidan', 'aiden', 'aidn', 'aidscur', 'aidsrel', 'aig', 'aiken', 'ail', 'ailment', 'aim', 'aime', 'aint', 'aio', 'aiolik', 'air', 'airbag', 'airbagrel', 'airbal', 'airbnb', 'airborn', 'airbrush', 'airbu', 'airbus', 'airbuss', 'airbussafran', 'aircraft', 'aircrash', 'airdat', 'airdri', 'airdroid', 'airdrop', 'airfar', 'airi', 'airipad', 'airli', 'airlift', 'airlin', 'airlinebank', 'airlines', 'airmacbook', 'airplan', 'airplay', 'airpollut', 'airport', 'airportno', 'airreplac', 'airshow', 'airshowairbu', 'airshowu', 'airspac', 'airspe', 'airstrik', 'airtel', 'airtim', 'airtraff', 'airtran', 'airwav', 'airway', 'aisha', 'aishwarya', 'aisl', 'aitkin', 'aj', 'ajar', 'ajay', 'ajimobi', 'ajinomoto', 'ajwasahicom', 'ak', 'aka', 'akamai', 'akaoderu', 'akb', 'akb48', 'akebia', 'akhmetov', 'akin', 'akio', 'akira', 'aknockin', 'akon', 'akron', 'akronit', 'akroyd', 'akshay', 'al', 'ala', 'alabama', 'alabamian', 'alacart', 'alachua', 'aladdin', 'aladin', 'alaia', 'alam', 'alameda', 'alamin', 'alamo', 'alamogordo', 'alamuddin', 'alan', 'alanna', 'alarm', 'alarmingli', 'alarmist', 'alarmists', 'alarmrais', 'alaska', 'alaskan', 'alastair', 'alba', 'alban', 'albani', 'albania', 'albarn', 'albarran', 'albatross', 'albeit', 'albemarl', 'albert', 'alberta', 'albertan', 'albiglutid', 'albion', 'album', 'albumlength', 'albumreleas', 'albuquerqu', 'albuquerquearea', 'alcatel', 'alcatelluc', 'alcid', 'alcoa', 'alcohol', 'alcoholfuel', 'alcoholmak', 'alcoholpalcoholhead', 'alcoholrel', 'alcom', 'alcon', 'alcul', 'ald403', 'aldean', 'aldeen', 'alder', 'alderman', 'aldermen', 'aldershot', 'aldi', 'aldo', 'aldridg', 'aldrin', 'ale', 'alec', 'alecto', 'aleix', 'alejandro', 'alemani', 'aleppo', 'alern', 'alert', 'alertmarylandbas', 'alesha', 'alevel', 'alex', 'alexa', 'alexand', 'alexandra', 'alexey', 'alexi', 'alexion', 'alfa', 'alferonr', 'alfieri', 'alfr', 'alfredo', 'alga', 'algeri', 'algeria', 'algorithm', 'ali', 'alia', 'alibaba', 'alibabacom', 'alibabaearn', 'alibi', 'alic', 'alice', 'alicia', 'alien', 'alienisol', 'alienvers', 'alienâ', 'alight', 'align', 'alijah', 'alik', 'alimera', 'alimoni', 'alipay', 'alison', 'alist', 'alistair', 'alitali', 'alitalia', 'alitaliaetihad', 'alito', 'aliv', 'aliya', 'aliyah', 'alk', 'alkabelló', 'all', 'alla', 'allact', 'allafricacom', 'allair', 'allaluminum', 'allamerica', 'allamerican', 'allaround', 'allay', 'allblack', 'allcap', 'allcaptain', 'allcash', 'allcast', 'allcaus', 'allclear', 'alldanc', 'allday', 'alldigit', 'alleg', 'allegan', 'allegani', 'allegedli', 'allegheni', 'allegi', 'allegiant', 'allegion', 'allelectr', 'alleluia', 'alleluja', 'allen', 'allenhelm', 'allentown', 'allerg', 'allergan', 'allerganval', 'allergen', 'allergi', 'allergist', 'allergistimmunologist', 'allergyfre', 'allergyhit', 'allergyrel', 'allergysuffer', 'allevi', 'alley', 'alleyinspir', 'allfemal', 'allflash', 'allformat', 'allgirl', 'allgrownup', 'allhit', 'allhonda', 'alli', 'allianc', 'alliant', 'allig', 'allimport', 'allin', 'allinon', 'alliqua', 'allison', 'allliquid', 'allmal', 'allman', 'allmet', 'allnatur', 'allnatural', 'allnew', 'allnight', 'alloc', 'allor', 'allosauru', 'allot', 'allout', 'allow', 'allpervas', 'allround', 'allse', 'allshar', 'allspark', 'allstar', 'allstock', 'allterrain', 'alltim', 'alltouch', 'allud', 'allur', 'allus', 'allweath', 'allwhit', 'allyoucaneat', 'allyoucanread', 'alma', 'almanac', 'almeida', 'almighti', 'almond', 'almost', 'almostblind', 'almostdefinit', 'almostfight', 'almostnud', 'almunia', 'alo', 'alok', 'alon', 'along', 'alongsid', 'aloof', 'aloud', 'alp', 'alpa', 'alpent', 'alpha', 'alphabet', 'alphaprimegalaxi', 'alpharetta', 'alpin', 'alprolix', 'alprolixtm', 'alqaida', 'alreadi', 'already', 'alreadylong', 'alright', 'alsina', 'alsisi', 'also', 'alsoran', 'alstom', 'alstomg', 'alstomgener', 'alstomgesiemen', 'alstommontebourg', 'alstomupd', 'alston', 'alstrom', 'alta', 'altar', 'altenergi', 'alter', 'altera', 'alterc', 'altern', 'althinni', 'although', 'altic', 'altisourc', 'altitud', 'altman', 'altmetr', 'alto', 'altogeth', 'altoona', 'altria', 'altruism', 'altruist', 'altu', 'altuzarra', 'alu', 'alum', 'aluminium', 'aluminum', 'aluminumbear', 'alumni', 'alumnu', 'alunageorg', 'alvis', 'alwaleedback', 'alway', 'alwayshungri', 'alwayson', 'alwen', 'alyson', 'alyssa', 'alzehim', 'alzeim', 'alzheim', 'alzhheim', 'alzhiem', 'am', 'ama', 'amadeu', 'amado', 'amaechi', 'amal', 'amalfi', 'amamiya', 'amanda', 'amarchand', 'amarillo', 'amark', 'amass', 'amateur', 'amateurradio', 'amatur', 'amaya', 'amaz', 'amazebal', 'amazed', 'amazing', 'amazingli', 'amazingspid', 'amazingspiderman', 'amazon', 'amazonatt', 'amazonbasket', 'amazoncart', 'amazoncom', 'amazoncomtoacquirecomixolog', 'amazonfresh', 'amazonhachett', 'amazonhbo', 'amazonian', 'amazonin', 'amazonli', 'amazonofficiallylauncheskindleunlimitedsubscriptionservic', 'amazontwitt', 'ambarella', 'ambassador', 'amber', 'ambi', 'ambidextr', 'ambient', 'ambigu', 'ambit', 'ambiti', 'ambition', 'ambival', 'ambridg', 'ambros', 'ambuja', 'ambul', 'ambush', 'amc', 'amd', 'amdoc', 'ame', 'amedisi', 'ameet', 'amel', 'ameli', 'amelia', 'amen', 'amend', 'amercia', 'amerco', 'america', 'america2', 'americaa', 'americaguilti', 'americamad', 'american', 'americaninspir', 'americanmad', 'americanrussian', 'americarepublican', 'americas', 'americatop', 'americaâ', 'amerika', 'ameritrad', 'amethyst', 'amex', 'amf', 'amfar', 'amg', 'amgen', 'amgn', 'amhq', 'ami', 'amiabl', 'amic', 'amicu', 'amid', 'amidst', 'amiga', 'amiibo', 'aminu', 'amira', 'amish', 'amitabh', 'amityvil', 'ammo', 'ammunit', 'amnesia', 'amnh', 'amniot', 'amo', 'amoeba', 'amoeboid', 'amok', 'amol', 'among', 'amongst', 'amoroso', 'amosun', 'amount', 'amour', 'amp', 'ampedup', 'amphetamin', 'amphitheat', 'amphitheatr', 'ampl', 'amplif', 'amplifi', 'amput', 'ampute', 'amsa', 'amsterdam', 'amtrak', 'amuck', 'amus', 'amusingli', 'amyloid', 'amyotroph', 'amz', 'amzn', 'américa', 'an', 'ana', 'anac', 'anaconda', 'anacor', 'anadarko', 'anadig', 'anaem', 'anaheim', 'anal', 'analges', 'analog', 'analogu', 'analys', 'analysi', 'analysisfoxtim', 'analysishow', 'analysisjpmorgan', 'analysisobama', 'analysispf', 'analysisrptfoxtim', 'analysisrptobama', 'analyst', 'analyt', 'analyz', 'anandtech', 'anantek', 'anarch', 'anarchi', 'anarchist', 'anarchy', 'anarchyinspir', 'anastasia', 'anatomi', 'anaï', 'anc', 'ancestor', 'ancestr', 'anchor', 'anchorag', 'anchorless', 'anchorman', 'ancient', 'ancier', 'ancillari', 'and', 'anda', 'andahalf', 'ander', 'andersen', 'anderson', 'andersonia', 'andersonlopez', 'andhra', 'andi', 'andmor', 'andoid', 'andor', 'andr', 'andrada', 'andrea', 'andreessen', 'andrei', 'andrew', 'andrewss', 'andrey', 'andrii', 'andriy', 'androgyni', 'android', 'androidbas', 'androidcompat', 'androidfirst', 'androidjava', 'androidlik', 'androidpow', 'androidstyl', 'androidwid', 'andromeda', 'andth', 'anecdot', 'aneela', 'aneg', 'aneka', 'anem', 'anemon', 'anew', 'anf', 'anfi', 'ang', 'angara', 'angel', 'angela', 'angelaki', 'angeleno', 'angelesarea', 'angelia', 'angelillo', 'angelin', 'angelina', 'angelo', 'angeloni', 'angelvo', 'anger', 'angi', 'angioedema', 'angl', 'angleou', 'angler', 'anglia', 'anglican', 'anglo', 'angloirish', 'angri', 'angrier', 'angriest', 'angrili', 'angry', 'angst', 'angstridden', 'angu', 'anguish', 'anheuserbusch', 'anhui', 'anick', 'anil', 'anim', 'animal', 'animalfe', 'animalist', 'animalright', 'animals', 'animalto', 'animatron', 'animeinspir', 'animos', 'aniston', 'anita', 'anitbiot', 'ankara', 'ankl', 'anmer', 'ann', 'anna', 'annal', 'annapoli', 'annett', 'annex', 'anni', 'annihil', 'anniston', 'annistonoxford', 'anniv', 'anniversari', 'anniverserari', 'annoint', 'annot', 'annouc', 'annoucn', 'announ', 'announc', 'announced', 'announcedpublish', 'announcedth', 'announces', 'annoy', 'annual', 'annualis', 'annually', 'annuiti', 'annul', 'anoka', 'anomali', 'anonym', 'anonymish', 'anorex', 'anorexia', 'anoth', 'anothoni', 'anr', 'anschutz', 'ansel', 'anson', 'answer', 'ant', 'antagon', 'antagonist', 'antar', 'antarct', 'antarctica', 'antartica', 'antboy', 'antebellum', 'antenna', 'anterior', 'anthem', 'antholog', 'anthoni', 'anthony', 'anthrax', 'anthropogen', 'anthropologi', 'anti', 'antiabort', 'antiabus', 'antiaca', 'antiacn', 'antiag', 'antiaid', 'antiaircraft', 'antial', 'antialzheim', 'antiamazon', 'antianonym', 'antiapartheid', 'antiappl', 'antiareola', 'antiargentina', 'antiasian', 'antiauster', 'antiaveng', 'antibacteri', 'antiballist', 'antibeij', 'antibia', 'antibibl', 'antibieb', 'antibiot', 'antibioticresist', 'antiblogg', 'antibodi', 'antibriberi', 'antibullfight', 'antibulli', 'antibusi', 'antic', 'anticanc', 'anticapit', 'anticapitalist', 'antichina', 'antichines', 'antichoic', 'antichristian', 'anticip', 'anticlim', 'anticlimact', 'anticlot', 'anticoagul', 'anticolbert', 'anticommunist', 'anticompet', 'anticompetit', 'anticonsum', 'anticorrupt', 'anticounterfeit', 'anticrisi', 'anticybercrim', 'anticyclon', 'antidata', 'antidefam', 'antidefl', 'antideflationari', 'antidepress', 'antidetroit', 'antidiabet', 'antidot', 'antidov', 'antidump', 'antieavesdrop', 'antiebola', 'antienergi', 'antierdogan', 'antiestablish', 'antieu', 'antifam', 'antiflu', 'antifre', 'antigam', 'antigay', 'antigaymarriag', 'antigen', 'antigenspecif', 'antiglass', 'antigmo', 'antigoogl', 'antigraft', 'antigun', 'antihegemon', 'antihero', 'antihiv', 'antihog', 'antihunt', 'antihypertens', 'antiimmigr', 'antiinfect', 'antiinst', 'antiinvers', 'antiiphon', 'antijewish', 'antil', 'antilgbt', 'antilla', 'antilock', 'antim', 'antimalaria', 'antimarriag', 'antimatt', 'antimedicin', 'antimeteorit', 'antimicrobi', 'antimigrain', 'antimin', 'antimonogomi', 'antimonopoli', 'antimozilla', 'antinet', 'antinuclear', 'antinud', 'antiobamacar', 'antiobes', 'antioverdos', 'antioxid', 'antipaedophil', 'antipaparazzi', 'antipc', 'antipedophil', 'antipiketti', 'antiplatelet', 'antipolio', 'antipolit', 'antipollut', 'antipoverti', 'antipsychot', 'antipubl', 'antiqu', 'antiqualcomm', 'antireject', 'antireligi', 'antirenew', 'antiretali', 'antirig', 'antirussian', 'antisamesex', 'antisci', 'antisemit', 'antisequel', 'antismok', 'antisnoop', 'antisoci', 'antispi', 'antispoof', 'antisubsidi', 'antisunscreen', 'antiswin', 'antitax', 'antitaxevas', 'antitb', 'antitech', 'antiterror', 'antitesla', 'antitext', 'antitextingwhiledriv', 'antitheft', 'antitobacco', 'antitrust', 'antiub', 'antivaccin', 'antivaxx', 'antivir', 'antiviru', 'antiwal', 'antiwar', 'antiwh', 'antlik', 'antm', 'antman', 'antoin', 'antoinett', 'anton', 'antoni', 'antonio', 'antonoff', 'antrax', 'antsi', 'antutu', 'anu', 'anubisnetwork', 'anupama', 'anvil', 'anxieti', 'anxiou', 'anxious', 'any', 'anybodi', 'anydo', 'anymor', 'anyon', 'anyone', 'anyth', 'anything', 'anytim', 'anyway', 'anywher', 'anz', 'anzu', 'anzuwyliei', 'ao', 'aoif', 'aok', 'aoki', 'aol', 'aolcom', 'aoltim', 'aortic', 'aosb', 'aosp', 'ap', 'apac', 'apach', 'apadilla', 'aparecium', 'apart', 'apartheid', 'apartheidera', 'apathet', 'apathi', 'apatow', 'apd', 'ape', 'apeel', 'apeopocalyt', 'apertur', 'apes', 'apesinspir', 'apex', 'apgfk', 'api', 'apiec', 'apixaban', 'apk', 'aplenti', 'aplin', 'aplomb', 'apnea', 'apneastrok', 'apnewsbreak', 'apnewsnow', 'apo', 'apocalyps', 'apocalypt', 'apodaca', 'apoe4', 'apollo', 'apolog', 'apologet', 'apologia', 'apologis', 'apostol', 'apov', 'app', 'appadvic', 'appal', 'appalachian', 'appar', 'apparatu', 'apparel', 'appbas', 'appcontrol', 'appdiscoveri', 'appeal', 'appear', 'appeas', 'appeat', 'appel', 'appelbe', 'appendectomi', 'appendix', 'apper', 'appet', 'appeta', 'appetit', 'appgam', 'appi', 'appinstal', 'appl', 'applaud', 'applaus', 'applciat', 'apple', 'appleacquir', 'appleapprov', 'applebas', 'applebe', 'applebeat', 'applebuyingbeat', 'applecomcast', 'applefirst', 'applegoogl', 'appleibm', 'appleisdoom', 'appleiz', 'applelik', 'applemad', 'appleown', 'applesamsung', 'applese', 'appletojointheinternetofth', 'appleton', 'appletv', 'appli', 'applianc', 'applic', 'appoin', 'appoint', 'apppow', 'apprais', 'appreci', 'apprehens', 'approach', 'appropri', 'approv', 'approved', 'approx', 'approxim', 'apps', 'appsolut', 'appspi', 'appsplos', 'appstor', 'appstore', 'appurifi', 'apr', 'aprahamian', 'apremilast', 'aprex', 'april', 'aprilfool', 'apriljun', 'apron', 'apt', 'aptenodyt', 'apu', 'apunkachoic', 'apustecinternetsecuritythreat614', 'apwasthere3aprobablecauseofaidsfound', 'apx', 'aqr', 'aqua', 'aquaman', 'aquanaut', 'aquarid', 'aquariid', 'aquariu', 'aquarium', 'aqueduct', 'aquino', 'aquir', 'aquisit', 'ar', 'ara', 'araabmuzik', 'arab', 'arabamerican', 'arabia', 'arabian', 'arabica', 'arabl', 'arachidon', 'arachnid', 'arachnophob', 'arad', 'aragon', 'arak', 'aram', 'aramark', 'aranofski', 'arapaho', 'araqchi', 'aratana', 'aravena', 'arbi', 'arbil', 'arbitr', 'arbitrag', 'arbitrari', 'arbogast', 'arbor', 'arc', 'arcad', 'arcan', 'arcelormitt', 'arch', 'archaeologist', 'archaeopteryx', 'archaic', 'archbishop', 'archdioces', 'archeologist', 'archer', 'archerdanielsmidland', 'archfederalist', 'archi', 'architect', 'architectur', 'architecturebas', 'archiv', 'archivefirstcoastnewscom', 'archriv', 'archway', 'arcp', 'arctic', 'arcticoilhn', 'arden', 'ardi', 'ardour', 'ardron', 'are', 'area', 'arecibo', 'arena', 'arendel', 'arent', 'arest', 'aresuap', 'aretha', 'areva', 'areweclear', 'arg', 'argentin', 'argentina', 'argentinea', 'argentinean', 'argentinian', 'argento', 'argo', 'argotec', 'argotechdesign', 'argt', 'argu', 'arguabl', 'argument', 'argyl', 'ari', 'aria', 'ariad', 'ariana', 'arianespac', 'ariaswillow', 'aric', 'arican', 'ariel', 'arigato', 'arik', 'arilin', 'ariport', 'aris', 'arisin', 'arista', 'ariz', 'arizona', 'arizonabas', 'arizonan', 'ark', 'arkansa', 'arkansan', 'arkansass', 'arkema', 'arket', 'arkham', 'arklatex', 'arksiz', 'arlen', 'arli', 'arlington', 'arm', 'armadillo', 'armageddon', 'armani', 'armband', 'armbas', 'armchair', 'armellini', 'armenia', 'armenian', 'armh', 'armi', 'armies', 'armisen', 'armor', 'armorclad', 'armour', 'armpit', 'armrest', 'armsrel', 'armstrong', 'armwrestl', 'arna', 'arnett', 'arni', 'arnold', 'arnoldl', 'aronofki', 'aronofski', 'aronofskyaposs', 'aronson', 'arora', 'aros', 'around', 'aroundtheclock', 'arous', 'arquett', 'arraign', 'arrang', 'array', 'arrest', 'arri', 'arriba', 'arrington', 'arriv', 'arrivederci', 'arrivespeanutsmovi', 'arrl', 'arrog', 'arrogant', 'arrogantli', 'arrow', 'arrowhead', 'arroyo', 'arrrest', 'arryn', 'arsen', 'arsenault', 'arseniclac', 'arsenio', 'arseniy', 'arsian', 'arson', 'arsonist', 'art', 'artba', 'artcom', 'artefact', 'artemisinin', 'artemisininresist', 'arteri', 'arteryclog', 'artesia', 'artforprofit', 'arthenia', 'arthous', 'arthrit', 'arthriti', 'arthur', 'arthuro', 'arti', 'articl', 'articlesav', 'articul', 'artif', 'artifact', 'artifactsor', 'artificail', 'artifici', 'artilleri', 'artisan', 'artist', 'artistcrit', 'artistri', 'artpark', 'artpop', 'arts', 'artsentertain', 'artsi', 'artwork', 'aruba', 'arun', 'arundel', 'arya', 'aryetey', 'as', 'asa', 'asahi', 'asana', 'asap', 'asburi', 'ascap', 'ascend', 'ascendi', 'ascending', 'ascens', 'ascent', 'ascenta', 'asci', 'ascii', 'asciutto', 'asco', 'ascoa', 'ascuitto', 'asd', 'asean', 'asexu', 'asfia', 'asgard', 'ash', 'asha', 'asham', 'ashamed', 'ashanti', 'ashburton', 'asheboro', 'asher', 'asheton', 'ashetonha', 'ashevil', 'ashland', 'ashle', 'ashleigh', 'ashley', 'ashman', 'ashmor', 'ashor', 'ashton', 'asia', 'asiafuel', 'asian', 'asiana', 'asianamerican', 'asianpacif', 'asiapacif', 'asic', 'asid', 'asim', 'asimo', 'asinin', 'ask', 'aski', 'askjefftech', 'askjenni', 'asks', 'askthick', 'asl', 'asleep', 'aslibya', 'aslund', 'asm', 'asm2', 'asml', 'aso', 'asoiaf', 'asp', 'aspartamebas', 'aspect', 'aspen', 'aspenarea', 'asperg', 'asphyxi', 'aspir', 'aspirin', 'aspirincan', 'asprin', 'ass', 'assail', 'assang', 'assasin', 'assassin', 'assault', 'assaya', 'assayass', 'assembl', 'assemblymemb', 'assert', 'asses', 'assess', 'assest', 'asset', 'assetback', 'assetbuy', 'assetpurchas', 'asshl', 'asshol', 'assign', 'assignedseat', 'assimil', 'assisi', 'assist', 'assless', 'assn', 'assoc', 'associ', 'association', 'associationfund', 'assort', 'asssault', 'assuag', 'assum', 'assumpt', 'assur', 'ast', 'asta', 'astabl', 'astc', 'astella', 'asterisk', 'asteroid', 'asteroidcaptur', 'asteroidtrack', 'asthma', 'astin', 'aston', 'astonish', 'astonishingli', 'astoria', 'astorino', 'astound', 'astra', 'astrakhan', 'astray', 'astraz', 'astrazenaca', 'astrazenca', 'astrazeneca', 'astrazenecait', 'astrazenecano', 'astrazenecapf', 'astrazenecastyl', 'astrazenecaupd', 'astrazenica', 'astro', 'astrobiolog', 'astrobiologist', 'astroboffin', 'astrodom', 'astrolog', 'astronaut', 'astronom', 'astronomi', 'astrophys', 'astrophysicist', 'astroturf', 'asu', 'asund', 'asuss', 'asx', 'asx200', 'asylum', 'asymmetr', 'asymptomat', 'at', 'at1', 'atagl', 'atampt', 'atap', 'atari', 'atat', 'atc', 'atchley', 'atcoachella', 'ate', 'ateer', 'ateli', 'ater', 'atest', 'atf', 'atfr', 'atheism', 'atheist', 'athen', 'athenahealth', 'atherosclerosi', 'athleisur', 'athlet', 'athleta', 'athletica', 'athlon', 'athom', 'ati', 'atiku', 'atim', 'ativ', 'atk', 'atkin', 'atkinson', 'atl', 'atla', 'atlant', 'atlanta', 'atlantabas', 'atlantablackstarcom', 'atlantabound', 'atlantadailyworld', 'atlantadailyworldcom', 'atlantichbo', 'atleast', 'atm', 'atmel', 'atmo', 'atmosequip', 'atmospher', 'atnew', 'ato', 'atom', 'atombomb', 'atombombscal', 'aton', 'atop', 'atrepli', 'atrisk', 'atroc', 'atroci', 'atrophi', 'atsb', 'atsl', 'atsv', 'att', 'attach', 'attack', 'attackurg', 'attain', 'attard', 'attcomcast', 'attdirectv', 'attempt', 'attenborough', 'attend', 'attende', 'attenshun', 'attent', 'attention', 'attentionand', 'attentiongrab', 'attenu', 'attf', 'atth', 'atti', 'atticu', 'attir', 'attitud', 'attitude', 'attleboro', 'attorney', 'attorneycli', 'attorneygener', 'attract', 'attribut', 'attrit', 'attun', 'attverizon', 'attybe', 'aturn', 'atv', 'atvi', 'atwel', 'atwitt', 'atwn', 'atwood', 'au', 'au250', 'aubrey', 'auburn', 'auckland', 'auction', 'aud', 'auda', 'audaci', 'audgbp', 'audi', 'audienc', 'audience', 'audio', 'audiobook', 'audiophil', 'audiovisu', 'audit', 'auditor', 'auditori', 'audjpi', 'audnzd', 'audra', 'audrey', 'audusd', 'auerbach', 'auernheim', 'aug', 'augment', 'augsteinassoci', 'augur', 'auguri', 'august', 'augusta', 'augustin', 'augustu', 'auibtimescom', 'aulifestyleyahoocom', 'aum', 'aunt', 'aunz', 'aura', 'aurea', 'aurora', 'auspici', 'aussi', 'aust', 'auster', 'austin', 'austinarea', 'austinbergrstrom', 'austintati', 'austism', 'australasia', 'australia', 'australiajapan', 'australian', 'australias', 'austria', 'austrian', 'aut', 'auteur', 'auth', 'authent', 'author', 'authoractivist', 'authori', 'authoritarian', 'authorship', 'autism', 'autismpesticid', 'autismspectrum', 'autismvaccin', 'autist', 'auto', 'autoadjust', 'autobahn', 'autobiographi', 'autobird', 'autobot', 'autochaot', 'autocu', 'autodefault', 'autodefect', 'autodelet', 'autodesk', 'autodis', 'autoen', 'autofocu', 'autogener', 'autograph', 'autohdr', 'autoinject', 'autoinjector', 'autoinsurancecom', 'autointerior', 'autolog', 'autom', 'automak', 'automat', 'automobil', 'automot', 'auton', 'autonew', 'autonom', 'autonomi', 'autoorgan', 'autopart', 'autopilot', 'autoplay', 'autopsi', 'autoru', 'autosmiley', 'autoswip', 'autosync', 'autotag', 'autothrottl', 'autotun', 'autotunecultur', 'autotunefre', 'autoupd', 'autumn', 'autumnwint', 'auxet', 'auxl', 'auxo', 'av', 'ava', 'avacodo', 'avago', 'avail', 'availab', 'available', 'availi', 'avalanch', 'avali', 'avaloninspir', 'avan', 'avanir', 'avant', 'avast', 'avastin', 'avatar', 'ave', 'aveeno', 'aveng', 'avengers', 'avengersâ', 'avenu', 'aveo', 'averag', 'averagerisk', 'averi', 'avers', 'avert', 'avi', 'avian', 'aviat', 'aviaton', 'avicci', 'avicii', 'avid', 'avil', 'aviod', 'aviv', 'aviva', 'avnet', 'avocado', 'avoid', 'avon', 'avondal', 'avril', 'avtron', 'aw', 'aw14', 'awa', 'awac', 'await', 'awak', 'awaken', 'awar', 'award', 'awardnomin', 'awardrwin', 'awards', 'awardsaward', 'awardwin', 'awardwinn', 'awash', 'away', 'awayquot', 'awd', 'awe', 'awea', 'aweinspir', 'awesom', 'awesome', 'awhil', 'awkward', 'awkwardli', 'awkwardlook', 'awol', 'awri', 'aww', 'awww', 'ax', 'axa', 'axe', 'axel', 'axeman', 'axi', 'axiom', 'axl', 'axp', 'aye', 'ayer', 'ayesha', 'ayi', 'aymond', 'ayn', 'ayott', 'ayr', 'ayra', 'az', 'aza', 'azaela', 'azalea', 'azcentralcom', 'azealia', 'azerbaijan', 'azerbaijani', 'azevedo', 'azn', 'azodicarbonamid', 'azsey', 'aztrazeneca', 'azur', 'azure', 'b13', 'b20', 'b2b', 'b50', 'b612', 'b613', 'b787', 'ba', 'baa', 'baaaaaaaack', 'baaaack', 'baaack', 'baaackk', 'baazov', 'bab', 'baba', 'babar', 'babe', 'babel', 'babi', 'babilonia', 'baboon', 'baby', 'baby039', 'babyfac', 'babyg', 'babylon', 'babynam', 'babyontheway', 'babys', 'babysat', 'babyshow', 'babysit', 'babysitt', 'bac', 'bach', 'bachchan', 'bachelor', 'bachelorbachelorett', 'bachelorett', 'bachelorette', 'bacheloretteand', 'bachelorhood', 'bachelorinwait', 'bachelorn', 'bachelorparti', 'bachelorsi', 'bacher', 'bacherlorett', 'bachlorett', 'bachman', 'back', 'back9network', 'backdoor', 'backdrop', 'backend', 'backer', 'backfir', 'backflip', 'backfoot', 'background', 'backhalf', 'backhand', 'backhoedump', 'backlash', 'backless', 'backlight', 'backlog', 'backpack', 'backped', 'backplan', 'backroom', 'backseat', 'backsid', 'backslap', 'backstab', 'backstag', 'backstop', 'backstori', 'backstreet', 'backtoback', 'backtoschool', 'backtothefutur', 'backtrack', 'backup', 'backward', 'backwat', 'backyard', 'backâ', 'bacon', 'bacteri', 'bacteria', 'bacterium', 'bad', 'badadadayum', 'badass', 'badbusi', 'badder', 'baddest', 'baddi', 'badg', 'badger', 'badgley', 'badiucao', 'badli', 'badlook', 'badlyperform', 'badman', 'badmouth', 'badtast', 'badtemp', 'badu', 'badusb', 'bae', 'baelish', 'baer', 'baffl', 'bafta', 'bag', 'bagdad', 'bagdadi', 'bagel', 'baggag', 'bagger', 'baggi', 'baggin', 'baghdad', 'baguio', 'bahama', 'bahrain', 'baht', 'bai', 'baic', 'baidu', 'baier', 'baig', 'baikonur', 'bail', 'bailed0ut', 'bailedout', 'bailey', 'bailon', 'bailout', 'bain', 'bainbridg', 'bair', 'baird', 'bait', 'bajillion', 'bake', 'bakeoff', 'baker', 'bakeri', 'bakersfield', 'bakken', 'balanc', 'balconi', 'bald', 'baldhead', 'baldwin', 'bale', 'baleen', 'balfour', 'bali', 'balk', 'balkan', 'ball', 'balla', 'ballad', 'ballard', 'ballass', 'ballerina', 'ballerstatuscom', 'ballet', 'ballgown', 'balli', 'ballist', 'ballmer', 'balloon', 'ballot', 'ballpark', 'ballplay', 'ballroom', 'ballyhoura', 'ballymoney', 'balm', 'balmain', 'balmor', 'balshamwest', 'baltimor', 'balyszak', 'bam', 'bama', 'bamba', 'bamboleo', 'bamboo', 'bambrough', 'bamf', 'baml', 'ban', 'bana', 'banal', 'banana', 'banbossi', 'banco', 'bancorp', 'bancorpor', 'bancorpsouth', 'band', 'bandag', 'bandaidlik', 'bandana', 'bandanna', 'bandar', 'bandera', 'bandhan', 'bandier', 'bandit', 'bandlead', 'bandmat', 'bandsintown', 'bandwagon', 'bandwear', 'bandwidth', 'bane', 'banerje', 'bang', 'bangalor', 'banger', 'bangerz', 'bangin', 'bangkok', 'bangl', 'bangladesh', 'bangladeshi', 'bangs', 'bangup', 'banhamm', 'banif', 'banish', 'bank', 'bankabl', 'bankcorp', 'banker', 'bankfailur', 'bankmen', 'banknot', 'bankrat', 'bankrol', 'bankrupci', 'bankrupt', 'bankruptci', 'bankruptcyupd', 'banksi', 'bankster', 'bankston', 'banksylik', 'banksystyl', 'banner', 'banno', 'banquet', 'bansal', 'banski', 'banter', 'bantha', 'bapd', 'baptism', 'baptist', 'baquet', 'bar', 'barabara', 'barack', 'barackobama', 'baraja', 'baranski', 'barataria', 'baratheon', 'barb', 'barbado', 'barbar', 'barbara', 'barbarabas', 'barbarian', 'barbecu', 'barbequ', 'barber', 'barbi', 'barbour', 'barbq', 'barbra', 'barc', 'barcelona', 'barchart', 'barclay', 'barclayss', 'barcod', 'barconcertworkplac', 'bard', 'bardarbunga', 'bardbreak', 'bardo', 'bardot', 'bare', 'barebottom', 'barebutt', 'barefac', 'barefeet', 'barefoot', 'barehand', 'bareleg', 'barelyelev', 'barelyther', 'barenak', 'barf', 'barfight', 'barg', 'bargain', 'bargainhunt', 'bargin', 'bariat', 'bariatr', 'barington', 'barista', 'bark', 'barker', 'barkhad', 'barkin', 'barlow', 'barmi', 'barn', 'barnesjewish', 'barnett', 'barney', 'barnier', 'barnsley', 'barnsleyman', 'barnum', 'barofski', 'baromet', 'baron', 'barr', 'barra', 'barrack', 'barracuda', 'barrag', 'barrasso', 'barrel', 'barrelrol', 'barrelsday', 'barrett', 'barrettjackson', 'barri', 'barricad', 'barriejam', 'barriejami', 'barrier', 'barrington', 'barrist', 'barrmor', 'barron', 'barroom', 'barroso', 'barrow', 'barrowman', 'barrymor', 'barrymoresandl', 'bartend', 'barter', 'barthel', 'barton', 'bartow', 'baruchel', 'barzani', 'basal', 'basalcel', 'base', 'basebal', 'baseballpassov', 'basedwoman', 'baselin', 'baseman', 'basement', 'basemodel', 'bash', 'basi', 'basic', 'basil', 'basilan', 'basim', 'basin', 'bask', 'basket', 'basketbal', 'baskets', 'baskett', 'bass', 'bassam', 'bassendean', 'bassendowski', 'basset', 'bassett', 'bassettdirect', 'bassheavi', 'bassist', 'bast', 'bastard', 'bastrop', 'basu', 'bat', 'batanga', 'batch', 'bate', 'bateat', 'bateman', 'batffleck', 'batgirl', 'bath', 'bathori', 'bathrob', 'bathroom', 'bathroombar', 'bathtub', 'batista', 'batkid', 'batman', 'batmanprequel', 'batmansuperman', 'batmobil', 'batmobile', 'baton', 'batshit', 'batsuit', 'batten', 'batter', 'batteri', 'batteries', 'battersweet', 'batterybox', 'batterydrain', 'batteryfir', 'batteryo', 'batterypow', 'batteryswap', 'battl', 'battlefield', 'battlefront', 'battleground', 'battlenet', 'battleship', 'battlest', 'battlestar', 'batttlefield', 'bau', 'bauer', 'baumgardn', 'bautista', 'bawdi', 'bawl', 'baws', 'bax', 'baxter', 'bay', 'bayer', 'bayerisch', 'bayfront', 'bayhem', 'baylor', 'bayonet', 'bayonetta', 'bayonn', 'baystat', 'baystyl', 'bayt', 'baywatch', 'bazaar', 'bazillion', 'bazinga', 'bazooka', 'bb', 'bb10', 'bb102', 'bb16', 'bb7power', 'bb7run', 'bba', 'bbb', 'bbba2', 'bbblkastabl', 'bbbstabl', 'bbc', 'bbc1', 'bbca', 'bbchbo', 'bbctrend', 'bbdo', 'bbecom', 'bbh', 'bbi', 'bblkastabl', 'bbm', 'bbma', 'bbo', 'bbq', 'bbri', 'bbt', 'bbva', 'bc', 'bcbbaamerican', 'bcbbnleader', 'bcbbnnation', 'bcc', 'bcdrillingearthquakeshn', 'bce', 'bcec', 'bch', 'bcit', 'bclass', 'bcmled', 'bcmlholi', 'bcprogress', 'bcr', 'bcrx', 'bcsocgerman', 'bcsocwcupcosta', 'bcuswal', 'bd', 'bday', 'bdc', 'bdesh', 'bdov', 'bdsi', 'bdsm', 'be', 'bea', 'beach', 'beachfront', 'beachgoer', 'beachhead', 'beachi', 'beachschmidt', 'beachsid', 'beacon', 'bead', 'beadi', 'beagl', 'beak', 'beam', 'bean', 'beani', 'bear', 'bearabl', 'beard', 'beardedladi', 'bearden', 'beardi', 'bearer', 'bearish', 'bearmarket', 'bears', 'beasley', 'beast', 'beasti', 'beastiesmonst', 'beastli', 'beasts', 'beastslay', 'beat', 'beatabl', 'beatdown', 'beaten', 'beatendown', 'beater', 'beatl', 'beatlemania', 'beatric', 'beatsappl', 'beatss', 'beatti', 'beatup', 'beatz', 'beau', 'beaufort', 'beaumont', 'beaumonttroy', 'beauti', 'beautifi', 'beautiful', 'beautyredefin', 'beaver', 'beaverton', 'beavi', 'bebe', 'bebop', 'becalm', 'becam', 'because', 'becca', 'beck', 'beckel', 'becker', 'beckett', 'beckham', 'becki', 'beckley', 'beckon', 'becom', 'bed', 'bedandbath', 'bedazzl', 'bedevil', 'bedfellow', 'bedford', 'bedi', 'bedlam', 'bedridden', 'bedrock', 'bedroom', 'bedshar', 'bedsheet', 'bedsid', 'bedtim', 'bee', 'beeb', 'beech', 'beecher', 'beeellion', 'beef', 'beefcak', 'beefedup', 'beefi', 'beefprocess', 'beeghazi', 'beelin', 'beelliondollar', 'beep', 'beer', 'beerfarm', 'beertoss', 'beete', 'beethoven', 'beetl', 'beetlebrow', 'beetlemania', 'beezin', 'befo', 'befor', 'before', 'beforeandaft', 'beforehand', 'befriend', 'befuddl', 'beg', 'began', 'begay', 'beget', 'beggar', 'begich', 'begin', 'beginn', 'begins', 'begun', 'behalf', 'behar', 'behati', 'behav', 'behavior', 'behaviour', 'behemoth', 'beher', 'behind', 'behindthescen', 'behindthewheel', 'behold', 'beholden', 'behym', 'beiber', 'beiberselena', 'beig', 'beij', 'beilu', 'bein', 'beirut', 'beirutborn', 'bejesu', 'bejewel', 'bejo', 'bel', 'belafont', 'belaru', 'belarusian', 'belasco', 'belat', 'belden', 'beleagu', 'beleodaq', 'beleodaqtm', 'belfast', 'belfort', 'belgian', 'belgium', 'beli', 'belichick', 'belieb', 'belief', 'believ', 'believe', 'believin', 'belinostat', 'belkin', 'bell', 'bella', 'bellagio', 'bellami', 'bellefontain', 'bellen', 'bellevil', 'bellevu', 'bellevuebas', 'belli', 'belliger', 'belligerent', 'bellingham', 'belliotti', 'bellisario', 'bellissima', 'bellman', 'bellmor', 'bello', 'bellogetti', 'bellow', 'bellr', 'bellweth', 'bellyeich', 'belmont', 'beloit', 'belong', 'belov', 'below', 'belowbelt', 'belowconsensu', 'belowexpect', 'belowstandard', 'belowstil', 'belt', 'belter', 'beltway', 'belveder', 'belvider', 'bema', 'bemaciclib', 'bemidji', 'bemoan', 'bemus', 'ben', 'benami', 'benaroya', 'bench', 'benchclear', 'benchmark', 'bend', 'bendabl', 'bender', 'bendik', 'beneath', 'benedict', 'benefactor', 'benefici', 'beneficiari', 'benefit', 'benefitand', 'benefitsreport', 'benefix', 'benelux', 'benewah', 'bengaluru', 'benghazi', 'benham', 'benign', 'benioff', 'benjamin', 'benji', 'bennet', 'bennett', 'bennettand', 'benni', 'benoit', 'benq', 'benschreut', 'benson', 'bensonhurst', 'bent', 'bentley', 'benton', 'benz', 'benzen', 'benzinga', 'benzino', 'benzocain', 'benzoyl', 'beovis', 'bepop', 'bequeath', 'ber', 'beran', 'berat', 'bereav', 'bereft', 'berenbaum', 'berenic', 'beret', 'berg', 'bergantino', 'bergdahl', 'bergdahlthem', 'bergdorf', 'bergeron', 'bergh', 'bergl', 'berk', 'berkeley', 'berkle', 'berkley', 'berkowitz', 'berkshir', 'berku', 'berlin', 'berlusconi', 'berman', 'bermuda', 'bern', 'bernab', 'bernadett', 'bernalillo', 'bernank', 'bernard', 'bernardino', 'bernd', 'bernersle', 'berni', 'bernstein', 'berri', 'berryessa', 'berserk', 'bershidski', 'bert', 'berth', 'bertha', 'bertolli', 'bertram', 'bertrand', 'berwick', 'berzerk', 'besbri', 'beset', 'beshear', 'besid', 'besidethepoint', 'besieg', 'besot', 'bespok', 'besson', 'best', 'bestdayev', 'bestdress', 'bestev', 'bestfriend', 'besti', 'bestiari', 'bestinclass', 'bestknown', 'bestlaid', 'bestlook', 'bestlov', 'bestof', 'bestow', 'bestpaid', 'bestperform', 'bestrat', 'bestsel', 'besttast', 'bestv', 'bestworst', 'bestyet', 'bet', 'beta', 'betaamyloid', 'betamax', 'betanew', 'betcha', 'beth', 'bethani', 'bethann', 'bethenni', 'bethesda', 'bethlehem', 'bethun', 'betray', 'betroth', 'betsi', 'bett', 'bettani', 'better', 'betterbehav', 'betterconnect', 'betterfunct', 'betterknown', 'betterthanexpect', 'betterthanforecast', 'betti', 'bettor', 'betty', 'betwen', 'beurden', 'beutler', 'bev', 'beverag', 'beverli', 'bevi', 'bevin', 'bewar', 'bewild', 'bewitch', 'bewk', 'bewkess', 'bewley', 'bexar', 'bey', 'beygenc', 'beygency', 'beyhiv', 'beyhive', 'beyma', 'beyonc', 'beyonc233', 'beyonceacut', 'beyonceinspir', 'beyoncejay', 'beyoncejayz', 'beyoncesolangejay', 'beyoncã', 'beyoncè', 'beyoncé', 'beyoncéjay', 'beyoncékim', 'beyond', 'beyou', 'beysu', 'bezel', 'bezo', 'bezos', 'bezoss', 'bf', 'bff', 'bfg', 'bg', 'bgc', 'bge', 'bgi', 'bgmea', 'bgn', 'bgr', 'bh', 'bhaban', 'bharara', 'bhasin', 'bhaskar', 'bhatt', 'bhavan', 'bhoothnath', 'bhp', 'bhpbilliton', 'bhutanes', 'bhuvan', 'bi', 'bia', 'bianca', 'biannual', 'bias', 'bibb', 'bibbi', 'bibbsitori', 'bibl', 'biblebas', 'biblic', 'bicentenni', 'bicep', 'bicep2', 'bichir', 'bicker', 'bickert', 'bicoast', 'bicycl', 'bicyclelik', 'bicyclestyl', 'bicyclist', 'bid', 'bidadi', 'bidatt', 'bidder', 'biddulph', 'biden', 'bidenl', 'bidreport', 'bidsourc', 'bidu', 'bieb', 'bieber', 'bieberagain', 'bieberbloom', 'biebergomez', 'bieberorlando', 'bieberreferenc', 'bieberyasukuni', 'biebz4evar', 'bielieb', 'bientot', 'biest', 'biff', 'big', 'bigbang', 'bigbox', 'bigbudget', 'bigcap', 'bigdata', 'bigelow', 'bigfoot', 'bigfoothairsamplesmostlyfrombears2cwolv', 'bigg', 'biggam', 'biggamehunt', 'bigger', 'biggerscreen', 'biggerthanexpect', 'biggerthanforecast', 'biggest', 'biggestev', 'biggestgross', 'biggestknown', 'biggestsel', 'biggi', 'bignam', 'bigot', 'bigotri', 'bigscreen', 'bigshot', 'bigsoda', 'bigtablet', 'bigtim', 'bigwig', 'biib', 'bijou', 'bikan', 'bike', 'bikelik', 'biker', 'bikerid', 'bikeshar', 'biketowork', 'bikini', 'bikiniclad', 'bikinireadi', 'bil', 'bilater', 'bilbo', 'bild', 'bildt', 'bilg', 'bilingu', 'bilion', 'bilk', 'bill', 'billboard', 'billcram', 'biller', 'billi', 'billiard', 'billiion', 'billion', 'billion2nd', 'billion6th', 'billion7th', 'billion8th', 'billionair', 'billionar', 'billioncolor', 'billiondollar', 'billioneuro', 'billionpixel', 'billionplu', 'billionpound', 'billionreport', 'billionreut', 'billiontech', 'billionth', 'billionyearold', 'billiton', 'billlion', 'billon', 'billonair', 'billow', 'billpay', 'billsbut', 'billsooki', 'bimbo', 'bimonthli', 'bin', 'binari', 'binay', 'bind', 'bindi', 'bing', 'bingb', 'bingedrink', 'bingeinacan', 'bingeview', 'bingewatch', 'binghamton', 'bingl', 'bingol', 'bink', 'binkley', 'binkow', 'binoch', 'bio', 'bioallianc', 'biocryst', 'biodegrad', 'biodeliveri', 'biodivers', 'bioenergi', 'bioengin', 'bioethic', 'biofilm', 'biofuel', 'biogen', 'biograph', 'biographi', 'biohazard', 'biohazardcontagi', 'biohealth', 'bioinspir', 'biola', 'biolog', 'biologist', 'biomarin', 'biomark', 'biomass', 'biomechan', 'biomed', 'biometr', 'bionic', 'biopath', 'biopharm', 'biopharma', 'biophilia', 'biopic', 'bioprint', 'bioproduct', 'biopsi', 'bioresorb', 'biosafeti', 'bioscienc', 'biosecur', 'biosens', 'biosensor', 'bioshock', 'biosign', 'biosimilar', 'biotech', 'biotechnolog', 'biotelemetri', 'bioterror', 'biounsafeti', 'bioweapon', 'bip', 'biparticsan', 'bipartisan', 'bipasha', 'bipolar', 'bir', 'biraci', 'birch', 'birchwood', 'bird', 'birdbrain', 'birdflu', 'birdi', 'birdlik', 'birdman', 'birdstransform', 'birdwoman', 'birkin', 'birmingham', 'birminghamarea', 'birminghambound', 'birth', 'birthday', 'birthdays', 'birthdaytwo', 'birthmark', 'birthplac', 'birthweight', 'bischofberg', 'biscuit', 'bisexu', 'bishop', 'bismarckminot', 'bisqu', 'bistro', 'biswal', 'bit', 'bitartr', 'bitauto', 'bitbeat', 'bitch', 'bitchi', 'bitchiest', 'bitchslap', 'bitcoin', 'bitcoindenomin', 'bitcoinlink', 'bitcoinrel', 'bitcoinst', 'bite', 'biten', 'bites', 'bitsi', 'bitten', 'bitter', 'bitterli', 'bittersweet', 'bittorr', 'biz', 'bizarr', 'bizarre', 'bizarro', 'bizfriendli', 'bizo', 'bj', 'bjork', 'bjorn', 'bjp', 'björk', 'bk', 'bkcc', 'bkw', 'bl', 'blablacar', 'blacc', 'black', 'blackandwhit', 'blackberi', 'blackberri', 'blackberrri', 'blackberry', 'blackberryesqu', 'blackberrylik', 'blackberryr', 'blackberrystyl', 'blackbird', 'blackbox', 'blackburn', 'blackcab', 'blackclad', 'blackcom', 'blacken', 'blackest', 'blackfac', 'blackhawk', 'blackhispanicspiderman', 'blackhol', 'blackhors', 'blackhurst', 'blackish', 'blackjack', 'blackleg', 'blacklist', 'blackmail', 'blackonmagenta', 'blackout', 'blackphon', 'blackpool', 'blackrock', 'blacks', 'blacksburg', 'blackseason', 'blackshad', 'blackstock', 'blackston', 'blacksuit', 'blackth', 'bladabindi', 'bladder', 'blade', 'bladerunn', 'blagger', 'blah', 'blai', 'blain', 'blair', 'blairstown', 'blake', 'blakk', 'blame', 'blamebig', 'blameless', 'blameverizon', 'blanch', 'blanchard', 'blanchett', 'blanchfield', 'bland', 'blandest', 'blaney', 'blank', 'blanket', 'blankfein', 'blare', 'blarney', 'blase', 'blasio', 'blasphemi', 'blast', 'blaster', 'blastoff', 'blastois', 'blatanc', 'blatant', 'blatantli', 'blatt', 'blaxploit', 'blaze', 'blazebecaus', 'blazer', 'blazinghot', 'ble', 'bleach', 'bleachabl', 'bleak', 'bleakbust', 'bleari', 'blearyey', 'bleat', 'blech', 'bled', 'bleech', 'bleed', 'bleep', 'blemish', 'blend', 'blended', 'blender', 'bless', 'bleszinski', 'blew', 'blezsinki', 'blige', 'blight', 'blillion', 'blimey', 'blimp', 'blimpsiz', 'blind', 'blindfold', 'blindingli', 'blindsid', 'bling', 'blink', 'blink182', 'blinkbox', 'blinkfe', 'blip', 'bliss', 'blister', 'blisteringli', 'blitz', 'blitzer', 'blizzard', 'blk', 'blm', 'bln', 'blnsourc', 'bloat', 'bloatwar', 'bloc', 'block', 'blockad', 'blockag', 'blockbust', 'blodget', 'blog', 'blogger', 'blogshar', 'blogsindependentcouk', 'bloke', 'blond', 'blonder', 'blondi', 'blood', 'bloodbath', 'bloodfeud', 'bloodfil', 'bloodi', 'bloodier', 'bloodlin', 'bloodlust', 'bloodmoon', 'bloodmoon2014', 'bloodpressur', 'bloodquot', 'bloodr', 'bloodsh', 'bloodstream', 'bloodsuck', 'bloodtest', 'bloodthirsti', 'bloodvessel', 'bloody', 'bloom', 'bloomberg', 'bloombieb', 'bloomer', 'bloomfield', 'bloomingdal', 'bloomington', 'bloomjustin', 'bloomsday', 'blooper', 'blossom', 'blot', 'blotter', 'blount', 'blous', 'bloviat', 'blow', 'blowback', 'blowbyblow', 'blowchella', 'blown', 'blowout', 'blowup', 'blu', 'bludgeon', 'blue', 'blueandgreentomorrowcom', 'bluebay', 'blueberri', 'bluebird', 'bluechip', 'bluecollar', 'blueey', 'bluefield', 'bluefin21', 'bluehot', 'blueout', 'blueprint', 'bluer', 'bluesman', 'bluesrock', 'bluetooth', 'bluetoothen', 'bluewat', 'bluf', 'bluff', 'bluffer', 'blumenau', 'blumenth', 'blunder', 'blunt', 'blunter', 'bluntli', 'blur', 'bluray', 'blurfre', 'blurri', 'blurt', 'blush', 'blusher', 'bluster', 'blvd', 'blyth', 'bm', 'bma', 'bmh', 'bmi', 'bmo', 'bmode', 'bmw', 'bmx', 'bn', 'bna', 'bneuro', 'bni', 'bnnca', 'bnp', 'bnpcredit', 'bnplu', 'bnpp', 'bnppariba', 'bnpqf', 'bnpqi', 'bnpsourc', 'bnsf', 'bnz', 'bo', 'boa', 'boal', 'boao', 'board', 'boarder', 'boardgam', 'boardman', 'boardrejig', 'boardroom', 'boardwalk', 'boast', 'boat', 'boater', 'boatingundertheinflu', 'boatload', 'boatram', 'bob', 'boba', 'bobbi', 'bobbit', 'bobbitis', 'bobbitt', 'bobbywomack', 'bobcat', 'bobin', 'bobst', 'boc', 'boca', 'bock', 'bocomm', 'bod', 'bodaci', 'bode', 'bodhi', 'bodi', 'bodic', 'bodili', 'bodybuild', 'bodycon', 'bodyguard', 'bodyposit', 'bodysham', 'bodyslam', 'bodysuit', 'boe', 'boehner', 'boehring', 'boeingfaa', 'boeinglockhe', 'bofa', 'bofamerril', 'boffin', 'boffinri', 'boffo', 'bog', 'bogachev', 'bogey', 'boggl', 'bogu', 'bogus', 'boguy', 'boho', 'boi', 'boil', 'boiler', 'boilwat', 'boink', 'boinko', 'boj', 'bokeh', 'boko', 'bold', 'bolden', 'bolder', 'boldest', 'boldli', 'bolivar', 'bolkiah', 'boll', 'bollenbach', 'bollywood', 'bolster', 'bolt', 'bolthol', 'bom', 'bomb', 'bombard', 'bombast', 'bomber', 'bombshel', 'bombthreat', 'bomer', 'bon', 'bona', 'bonanza', 'bonaroo', 'bonaventura', 'bond', 'bondag', 'bondbuy', 'bondhold', 'bondi', 'bondlik', 'bondmarket', 'bondpurchas', 'bondtrad', 'bone', 'bonello', 'boner', 'bones', 'boneshap', 'bonfield', 'bonfir', 'bong', 'bonham', 'boni', 'bonic', 'bonita', 'bonjour', 'bonk', 'bonker', 'bonn', 'bonnaf', 'bonnaroo', 'bonner', 'bonnet', 'bonni', 'bono', 'bonsal', 'bont', 'bonton', 'bonu', 'bonus', 'bonuses', 'bonusesir', 'boo', 'boob', 'boobag', 'boobalici', 'boobbar', 'boobi', 'booboo', 'boobytrap', 'booey', 'boogi', 'boohoo', 'book', 'bookdeliveri', 'bookend', 'bookexpo', 'booki', 'bookish', 'booklamp', 'bookmak', 'bookmark', 'bookpric', 'books', 'booksamillion', 'booksel', 'bookshelf', 'bookstor', 'bookstores', 'booktitl', 'bookworm', 'boom', 'boombust', 'boomer', 'boomerang', 'boomin', 'boomsound', 'boon', 'boondoggl', 'boorish', 'boost', 'booster', 'boot', 'booth', 'booti', 'bootinspir', 'bootleg', 'bootsi', 'bootstyl', 'booty', 'bootylici', 'bootypop', 'bootyshak', 'booyah', 'booz', 'boozefuel', 'boozer', 'boozi', 'border', 'bordercross', 'borderfre', 'borderland', 'borderlin', 'bore', 'boredom', 'boreopacifica', 'borg', 'bori', 'boring', 'borlaug', 'born', 'borninbould', 'borough', 'borrow', 'borrows', 'borsheim', 'bortscreenshot', 'borzotra', 'bosch', 'boseman', 'bosom', 'boson']\n"
     ]
    }
   ],
   "source": [
    "print(feature_names[:10000])\n",
    "#pickle.dump(feature_names, open(\"document_terms.txt\", \"wb\"))"
   ]
  },
  {
   "cell_type": "code",
   "execution_count": 19,
   "metadata": {},
   "outputs": [],
   "source": [
    "features_test = vectorizer.transform(features_test)"
   ]
  },
  {
   "cell_type": "code",
   "execution_count": 20,
   "metadata": {},
   "outputs": [
    {
     "data": {
      "text/plain": [
       "array([0., 0., 0., ..., 0., 0., 0.])"
      ]
     },
     "execution_count": 20,
     "metadata": {},
     "output_type": "execute_result"
    }
   ],
   "source": [
    "dt_count = features_train.toarray()\n",
    "dt_count[1]"
   ]
  },
  {
   "cell_type": "code",
   "execution_count": 21,
   "metadata": {},
   "outputs": [
    {
     "name": "stdout",
     "output_type": "stream",
     "text": [
      "No of features after selection : 4725\n"
     ]
    }
   ],
   "source": [
    "\"\"\" Applying dimensionality reduction and feature selection\"\"\"\n",
    "from sklearn.feature_selection import SelectPercentile, f_classif\n",
    "selector = SelectPercentile(f_classif, percentile=10)\n",
    "selector.fit(features_train, labels_train)\n",
    "features_train_transformed = selector.transform(features_train)\n",
    "features_test_transformed  = selector.transform(features_test)\n",
    "print (\"No of features after selection :\", features_train_transformed.shape[1])"
   ]
  },
  {
   "cell_type": "code",
   "execution_count": 22,
   "metadata": {},
   "outputs": [],
   "source": [
    "\"\"\" Grid search CV for models\"\"\"\n",
    "from sklearn.model_selection import GridSearchCV\n",
    "from sklearn.naive_bayes import MultinomialNB\n",
    "from sklearn.linear_model import LogisticRegression\n",
    "from sklearn.ensemble import RandomForestClassifier\n",
    "from sklearn.metrics import accuracy_score\n",
    "from sklearn.metrics import confusion_matrix\n",
    "from sklearn.metrics import classification_report\n",
    "from sklearn.base import clone\n",
    "from sklearn.model_selection import StratifiedKFold\n",
    "from sklearn.model_selection import cross_val_score"
   ]
  },
  {
   "cell_type": "code",
   "execution_count": 23,
   "metadata": {},
   "outputs": [],
   "source": [
    "params = [\n",
    "\n",
    "    {\n",
    "        'alpha': [0.001, 0.01, 0.1, 0.5, 1, 10]\n",
    "    },\n",
    "\n",
    "    {\n",
    "         'multi_class' : ('multinomial', 'ovr'),\n",
    "         'solver' : ('newton-cg', 'sag', 'saga'),\n",
    "         'C': [0.01, 0.1, 1, 10, 100]\n",
    "    },\n",
    "\n",
    "    {\n",
    "         'criterion' : ('gini', 'entropy'),\n",
    "         'n_estimators': [10, 50, 100, 150, 200],\n",
    "         'max_depth' : range(1,10),\n",
    "         'max_features' : ('sqrt', 'log2'),\n",
    "    }\n",
    "]"
   ]
  },
  {
   "cell_type": "code",
   "execution_count": 133,
   "metadata": {},
   "outputs": [],
   "source": [
    "models = []\n",
    "models.append(('MNB', MultinomialNB()))\n",
    "models.append(('LR', LogisticRegression(class_weight = 'balanced')))\n",
    "models.append(('RF', RandomForestClassifier()))"
   ]
  },
  {
   "cell_type": "code",
   "execution_count": 134,
   "metadata": {},
   "outputs": [
    {
     "data": {
      "text/plain": [
       "3"
      ]
     },
     "execution_count": 134,
     "metadata": {},
     "output_type": "execute_result"
    }
   ],
   "source": [
    "len(models)"
   ]
  },
  {
   "cell_type": "code",
   "execution_count": 135,
   "metadata": {},
   "outputs": [],
   "source": [
    "clfWithBestParameters = []"
   ]
  },
  {
   "cell_type": "code",
   "execution_count": 136,
   "metadata": {
    "scrolled": true
   },
   "outputs": [
    {
     "name": "stdout",
     "output_type": "stream",
     "text": [
      "\n",
      "Fitting the classifier  MNB  to transformed dataset\n"
     ]
    },
    {
     "name": "stderr",
     "output_type": "stream",
     "text": [
      "/usr/local/lib/python3.7/site-packages/sklearn/model_selection/_split.py:2053: FutureWarning: You should specify a value for 'cv' instead of relying on the default value. The default value will change from 3 to 5 in version 0.22.\n",
      "  warnings.warn(CV_WARNING, FutureWarning)\n"
     ]
    },
    {
     "name": "stdout",
     "output_type": "stream",
     "text": [
      "done in :  1.812 s\n",
      "best parameters selected for transformed features : \n",
      " {'alpha': 0.01}\n",
      "\n",
      "Fitting the classifier  LR  to transformed dataset\n"
     ]
    },
    {
     "name": "stderr",
     "output_type": "stream",
     "text": [
      "/usr/local/lib/python3.7/site-packages/sklearn/model_selection/_split.py:2053: FutureWarning: You should specify a value for 'cv' instead of relying on the default value. The default value will change from 3 to 5 in version 0.22.\n",
      "  warnings.warn(CV_WARNING, FutureWarning)\n",
      "/usr/local/lib/python3.7/site-packages/scipy/optimize/linesearch.py:313: LineSearchWarning: The line search algorithm did not converge\n",
      "  warn('The line search algorithm did not converge', LineSearchWarning)\n",
      "/usr/local/lib/python3.7/site-packages/sklearn/utils/optimize.py:195: UserWarning: Line Search failed\n",
      "  warnings.warn('Line Search failed')\n",
      "/usr/local/lib/python3.7/site-packages/sklearn/linear_model/sag.py:334: ConvergenceWarning: The max_iter was reached which means the coef_ did not converge\n",
      "  \"the coef_ did not converge\", ConvergenceWarning)\n",
      "/usr/local/lib/python3.7/site-packages/sklearn/linear_model/sag.py:334: ConvergenceWarning: The max_iter was reached which means the coef_ did not converge\n",
      "  \"the coef_ did not converge\", ConvergenceWarning)\n",
      "/usr/local/lib/python3.7/site-packages/sklearn/linear_model/sag.py:334: ConvergenceWarning: The max_iter was reached which means the coef_ did not converge\n",
      "  \"the coef_ did not converge\", ConvergenceWarning)\n",
      "/usr/local/lib/python3.7/site-packages/sklearn/linear_model/sag.py:334: ConvergenceWarning: The max_iter was reached which means the coef_ did not converge\n",
      "  \"the coef_ did not converge\", ConvergenceWarning)\n"
     ]
    },
    {
     "name": "stdout",
     "output_type": "stream",
     "text": [
      "done in :  957.931 s\n",
      "best parameters selected for transformed features : \n",
      " {'C': 10, 'multi_class': 'ovr', 'solver': 'sag'}\n",
      "\n",
      "Fitting the classifier  RF  to transformed dataset\n"
     ]
    },
    {
     "name": "stderr",
     "output_type": "stream",
     "text": [
      "/usr/local/lib/python3.7/site-packages/sklearn/model_selection/_split.py:2053: FutureWarning: You should specify a value for 'cv' instead of relying on the default value. The default value will change from 3 to 5 in version 0.22.\n",
      "  warnings.warn(CV_WARNING, FutureWarning)\n"
     ]
    },
    {
     "name": "stdout",
     "output_type": "stream",
     "text": [
      "done in :  2555.375 s\n",
      "best parameters selected for transformed features : \n",
      " {'criterion': 'gini', 'max_depth': 9, 'max_features': 'sqrt', 'n_estimators': 200}\n"
     ]
    }
   ],
   "source": [
    "i = 0\n",
    "for name, clf in models:\n",
    "\n",
    "    print (\"\\nFitting the classifier \", name, \" to transformed dataset\")\n",
    "    t0 = time()\n",
    "    classifier = GridSearchCV(clf, params[i])\n",
    "    classifier = classifier.fit(features_train_transformed, labels_train)\n",
    "    print (\"done in : \", round(time() - t0,3), \"s\")\n",
    "    print (\"best parameters selected for transformed features : \\n\", classifier.best_params_)\n",
    "    parameters = classifier.best_estimator_\n",
    "    clfWithBestParameters.append(parameters)\n",
    "\n",
    "    i += 1"
   ]
  },
  {
   "cell_type": "code",
   "execution_count": 144,
   "metadata": {},
   "outputs": [
    {
     "data": {
      "text/plain": [
       "3"
      ]
     },
     "execution_count": 144,
     "metadata": {},
     "output_type": "execute_result"
    }
   ],
   "source": [
    "len(clfWithBestParameters)"
   ]
  },
  {
   "cell_type": "code",
   "execution_count": 138,
   "metadata": {},
   "outputs": [
    {
     "data": {
      "text/plain": [
       "RandomForestClassifier(bootstrap=True, class_weight=None, criterion='gini',\n",
       "            max_depth=9, max_features='sqrt', max_leaf_nodes=None,\n",
       "            min_impurity_decrease=0.0, min_impurity_split=None,\n",
       "            min_samples_leaf=1, min_samples_split=2,\n",
       "            min_weight_fraction_leaf=0.0, n_estimators=200, n_jobs=None,\n",
       "            oob_score=False, random_state=None, verbose=0,\n",
       "            warm_start=False)"
      ]
     },
     "execution_count": 138,
     "metadata": {},
     "output_type": "execute_result"
    }
   ],
   "source": [
    "parameters"
   ]
  },
  {
   "cell_type": "code",
   "execution_count": 143,
   "metadata": {},
   "outputs": [
    {
     "name": "stdout",
     "output_type": "stream",
     "text": [
      "MultinomialNB(alpha=0.01, class_prior=None, fit_prior=True)\n",
      "LogisticRegression(C=10, class_weight='balanced', dual=False,\n",
      "          fit_intercept=True, intercept_scaling=1, max_iter=100,\n",
      "          multi_class='ovr', n_jobs=None, penalty='l2', random_state=None,\n",
      "          solver='sag', tol=0.0001, verbose=0, warm_start=False)\n",
      "RandomForestClassifier(bootstrap=True, class_weight=None, criterion='gini',\n",
      "            max_depth=9, max_features='sqrt', max_leaf_nodes=None,\n",
      "            min_impurity_decrease=0.0, min_impurity_split=None,\n",
      "            min_samples_leaf=1, min_samples_split=2,\n",
      "            min_weight_fraction_leaf=0.0, n_estimators=200, n_jobs=None,\n",
      "            oob_score=False, random_state=None, verbose=0,\n",
      "            warm_start=False)\n"
     ]
    }
   ],
   "source": [
    "print(clfWithBestParameters[0])\n",
    "print(clfWithBestParameters[1])\n",
    "print(clfWithBestParameters[2])"
   ]
  },
  {
   "cell_type": "code",
   "execution_count": 145,
   "metadata": {},
   "outputs": [
    {
     "name": "stdout",
     "output_type": "stream",
     "text": [
      "accuracy for  MNB  with transformed features :  0.9121156432807258\n"
     ]
    },
    {
     "name": "stderr",
     "output_type": "stream",
     "text": [
      "/usr/local/lib/python3.7/site-packages/sklearn/linear_model/sag.py:334: ConvergenceWarning: The max_iter was reached which means the coef_ did not converge\n",
      "  \"the coef_ did not converge\", ConvergenceWarning)\n"
     ]
    },
    {
     "name": "stdout",
     "output_type": "stream",
     "text": [
      "accuracy for  LR  with transformed features :  0.9300283590026408\n",
      "accuracy for  RF  with transformed features :  0.5137052296065712\n",
      "So the most accurate model is :  LogisticRegression(C=10, class_weight='balanced', dual=False,\n",
      "          fit_intercept=True, intercept_scaling=1, max_iter=100,\n",
      "          multi_class='ovr', n_jobs=None, penalty='l2', random_state=None,\n",
      "          solver='sag', tol=0.0001, verbose=0, warm_start=False)\n"
     ]
    }
   ],
   "source": [
    "i = 0\n",
    "highestAcc = 0\n",
    "for name, clf in models:\n",
    "\n",
    "    # estimate the accuracy of a model on the dataset by splitting the data, fitting a\n",
    "    # model and computing the score 10 consecutive times (with 10 different splits each time)\n",
    "    skf = StratifiedKFold(n_splits=10, shuffle = True, random_state = 42)\n",
    "\n",
    "    # finding accuracy with transformed features\n",
    "    classifier = clfWithBestParameters[i]\n",
    "    acc = cross_val_score(classifier, features_train_transformed, labels_train, cv = skf, scoring='accuracy')\n",
    "    print (\"accuracy for \", name, \" with transformed features : \", acc.mean())\n",
    "\n",
    "    if highestAcc < acc.mean():\n",
    "        highestAcc = acc.mean()\n",
    "        bestModel = clone(classifier)\n",
    "\n",
    "    i += 1\n",
    "\n",
    "\n",
    "print (\"So the most accurate model is : \", bestModel)"
   ]
  },
  {
   "cell_type": "code",
   "execution_count": 146,
   "metadata": {},
   "outputs": [
    {
     "name": "stderr",
     "output_type": "stream",
     "text": [
      "/usr/local/lib/python3.7/site-packages/sklearn/linear_model/sag.py:334: ConvergenceWarning: The max_iter was reached which means the coef_ did not converge\n",
      "  \"the coef_ did not converge\", ConvergenceWarning)\n"
     ]
    },
    {
     "name": "stdout",
     "output_type": "stream",
     "text": [
      "Testing accuracy:  0.9466029070593248\n",
      "Confusion matrix: \n",
      " [[27028   305   389  1395]\n",
      " [  462 36943   225   358]\n",
      " [  322   132 10739   126]\n",
      " [ 1410   311   204 25256]]\n"
     ]
    }
   ],
   "source": [
    "bestModel.fit(features_train, labels_train)\n",
    "predictions = bestModel.predict(features_test)\n",
    "print(\"Testing accuracy: \", accuracy_score(labels_test, predictions))\n",
    "print(\"Confusion matrix: \\n\", confusion_matrix(labels_test, predictions))\n",
    "#print(classification_report(labels_test, predictions)) "
   ]
  },
  {
   "cell_type": "code",
   "execution_count": 147,
   "metadata": {},
   "outputs": [],
   "source": [
    "filename = 'bestmodel.sav'\n",
    "pickle.dump(bestModel, open(filename, 'wb'))"
   ]
  },
  {
   "cell_type": "code",
   "execution_count": 148,
   "metadata": {},
   "outputs": [],
   "source": [
    "loaded_model = pickle.load(open(filename, 'rb'))"
   ]
  },
  {
   "cell_type": "code",
   "execution_count": 149,
   "metadata": {},
   "outputs": [
    {
     "data": {
      "text/plain": [
       "LogisticRegression(C=10, class_weight='balanced', dual=False,\n",
       "          fit_intercept=True, intercept_scaling=1, max_iter=100,\n",
       "          multi_class='ovr', n_jobs=None, penalty='l2', random_state=None,\n",
       "          solver='sag', tol=0.0001, verbose=0, warm_start=False)"
      ]
     },
     "execution_count": 149,
     "metadata": {},
     "output_type": "execute_result"
    }
   ],
   "source": [
    "loaded_model"
   ]
  },
  {
   "cell_type": "code",
   "execution_count": 227,
   "metadata": {},
   "outputs": [
    {
     "data": {
      "text/plain": [
       "['Stocks end week at new highs as good GDP data offsets poor earnings',\n",
       " \"Netflix may have to say goodbye to 'The Office' and Friends\",\n",
       " 'World Health Organization Releases New Screen Guidelines For Babies and Toddlers',\n",
       " 'NASA to perform key test of the SLS rocket, necessitating a delay in its launch',\n",
       " 'This is what your next iPhone design could look like',\n",
       " 'Trump now says parents must vaccinate children in face of measles outbreak',\n",
       " \"'Avengers: Endgame' box office surging toward first billion-dollar debut\",\n",
       " 'Elon Musk makes deal with SEC not to discuss Tesla’s finances without a lawyer’s approval',\n",
       " 'PayPal makes a big marketplace play with its $500M investment in Uber',\n",
       " 'A new skirmish in the California vaccination wars breaks out. Science will prevail',\n",
       " 'Fossil Friday: newly-discovered Callichimaera perplexa is an adorable, weird crab',\n",
       " 'NFL Draft Grades 2019: Eagles earn positive reviews for selecting Andre Dillard']"
      ]
     },
     "execution_count": 227,
     "metadata": {},
     "output_type": "execute_result"
    }
   ],
   "source": [
    "unknown_documents = ['Stocks end week at new highs as good GDP data offsets poor earnings', \n",
    "                     'Netflix may have to say goodbye to \\'The Office\\' and Friends', \n",
    "                     'World Health Organization Releases New Screen Guidelines For Babies and Toddlers', \n",
    "                     'NASA to perform key test of the SLS rocket, necessitating a delay in its launch', \n",
    "                     'This is what your next iPhone design could look like',\n",
    "                     'Trump now says parents must vaccinate children in face of measles outbreak',\n",
    "                    '\\'Avengers: Endgame\\' box office surging toward first billion-dollar debut',\n",
    "                    'Elon Musk makes deal with SEC not to discuss Tesla’s finances without a lawyer’s approval',\n",
    "                    'PayPal makes a big marketplace play with its $500M investment in Uber',\n",
    "                    'A new skirmish in the California vaccination wars breaks out. Science will prevail',\n",
    "                    'Fossil Friday: newly-discovered Callichimaera perplexa is an adorable, weird crab',\n",
    "                    'NFL Draft Grades 2019: Eagles earn positive reviews for selecting Andre Dillard']\n",
    "#unknown_documents = ['Stocks end week at new highs as good GDP data offsets poor earnings']\n",
    "unknown_documents"
   ]
  },
  {
   "cell_type": "code",
   "execution_count": 228,
   "metadata": {},
   "outputs": [
    {
     "data": {
      "text/html": [
       "<div>\n",
       "<style scoped>\n",
       "    .dataframe tbody tr th:only-of-type {\n",
       "        vertical-align: middle;\n",
       "    }\n",
       "\n",
       "    .dataframe tbody tr th {\n",
       "        vertical-align: top;\n",
       "    }\n",
       "\n",
       "    .dataframe thead th {\n",
       "        text-align: right;\n",
       "    }\n",
       "</style>\n",
       "<table border=\"1\" class=\"dataframe\">\n",
       "  <thead>\n",
       "    <tr style=\"text-align: right;\">\n",
       "      <th></th>\n",
       "      <th>unknown_title</th>\n",
       "      <th>original_targets</th>\n",
       "    </tr>\n",
       "  </thead>\n",
       "  <tbody>\n",
       "    <tr>\n",
       "      <th>0</th>\n",
       "      <td>Stocks end week at new highs as good GDP data ...</td>\n",
       "      <td>0</td>\n",
       "    </tr>\n",
       "    <tr>\n",
       "      <th>1</th>\n",
       "      <td>Netflix may have to say goodbye to 'The Office...</td>\n",
       "      <td>1</td>\n",
       "    </tr>\n",
       "    <tr>\n",
       "      <th>2</th>\n",
       "      <td>World Health Organization Releases New Screen ...</td>\n",
       "      <td>2</td>\n",
       "    </tr>\n",
       "    <tr>\n",
       "      <th>3</th>\n",
       "      <td>NASA to perform key test of the SLS rocket, ne...</td>\n",
       "      <td>3</td>\n",
       "    </tr>\n",
       "    <tr>\n",
       "      <th>4</th>\n",
       "      <td>This is what your next iPhone design could loo...</td>\n",
       "      <td>3</td>\n",
       "    </tr>\n",
       "    <tr>\n",
       "      <th>5</th>\n",
       "      <td>Trump now says parents must vaccinate children...</td>\n",
       "      <td>2</td>\n",
       "    </tr>\n",
       "    <tr>\n",
       "      <th>6</th>\n",
       "      <td>'Avengers: Endgame' box office surging toward ...</td>\n",
       "      <td>1</td>\n",
       "    </tr>\n",
       "    <tr>\n",
       "      <th>7</th>\n",
       "      <td>Elon Musk makes deal with SEC not to discuss T...</td>\n",
       "      <td>0</td>\n",
       "    </tr>\n",
       "    <tr>\n",
       "      <th>8</th>\n",
       "      <td>PayPal makes a big marketplace play with its $...</td>\n",
       "      <td>0</td>\n",
       "    </tr>\n",
       "    <tr>\n",
       "      <th>9</th>\n",
       "      <td>A new skirmish in the California vaccination w...</td>\n",
       "      <td>2</td>\n",
       "    </tr>\n",
       "    <tr>\n",
       "      <th>10</th>\n",
       "      <td>Fossil Friday: newly-discovered Callichimaera ...</td>\n",
       "      <td>3</td>\n",
       "    </tr>\n",
       "    <tr>\n",
       "      <th>11</th>\n",
       "      <td>NFL Draft Grades 2019: Eagles earn positive re...</td>\n",
       "      <td>s</td>\n",
       "    </tr>\n",
       "  </tbody>\n",
       "</table>\n",
       "</div>"
      ],
      "text/plain": [
       "                                        unknown_title original_targets\n",
       "0   Stocks end week at new highs as good GDP data ...                0\n",
       "1   Netflix may have to say goodbye to 'The Office...                1\n",
       "2   World Health Organization Releases New Screen ...                2\n",
       "3   NASA to perform key test of the SLS rocket, ne...                3\n",
       "4   This is what your next iPhone design could loo...                3\n",
       "5   Trump now says parents must vaccinate children...                2\n",
       "6   'Avengers: Endgame' box office surging toward ...                1\n",
       "7   Elon Musk makes deal with SEC not to discuss T...                0\n",
       "8   PayPal makes a big marketplace play with its $...                0\n",
       "9   A new skirmish in the California vaccination w...                2\n",
       "10  Fossil Friday: newly-discovered Callichimaera ...                3\n",
       "11  NFL Draft Grades 2019: Eagles earn positive re...                s"
      ]
     },
     "execution_count": 228,
     "metadata": {},
     "output_type": "execute_result"
    }
   ],
   "source": [
    "unknown_df = pd.DataFrame(unknown_documents, columns=[\"unknown_title\"])\n",
    "unknown_df['original_targets'] = [0,1,2,3,3,2,1,0,0,2,3,'s']\n",
    "unknown_df"
   ]
  },
  {
   "cell_type": "code",
   "execution_count": 229,
   "metadata": {},
   "outputs": [],
   "source": [
    "unknown_df['unknown_title'] = [preprocess(title) for title in unknown_df['unknown_title']]"
   ]
  },
  {
   "cell_type": "code",
   "execution_count": 230,
   "metadata": {},
   "outputs": [
    {
     "data": {
      "text/html": [
       "<div>\n",
       "<style scoped>\n",
       "    .dataframe tbody tr th:only-of-type {\n",
       "        vertical-align: middle;\n",
       "    }\n",
       "\n",
       "    .dataframe tbody tr th {\n",
       "        vertical-align: top;\n",
       "    }\n",
       "\n",
       "    .dataframe thead th {\n",
       "        text-align: right;\n",
       "    }\n",
       "</style>\n",
       "<table border=\"1\" class=\"dataframe\">\n",
       "  <thead>\n",
       "    <tr style=\"text-align: right;\">\n",
       "      <th></th>\n",
       "      <th>unknown_title</th>\n",
       "      <th>original_targets</th>\n",
       "    </tr>\n",
       "  </thead>\n",
       "  <tbody>\n",
       "    <tr>\n",
       "      <th>0</th>\n",
       "      <td>stock end week new high good gdp data offset p...</td>\n",
       "      <td>0</td>\n",
       "    </tr>\n",
       "    <tr>\n",
       "      <th>1</th>\n",
       "      <td>netflix may say goodby offic friend</td>\n",
       "      <td>1</td>\n",
       "    </tr>\n",
       "    <tr>\n",
       "      <th>2</th>\n",
       "      <td>world health organ releas new screen guidelin ...</td>\n",
       "      <td>2</td>\n",
       "    </tr>\n",
       "    <tr>\n",
       "      <th>3</th>\n",
       "      <td>nasa perform key test sl rocket necessit delay...</td>\n",
       "      <td>3</td>\n",
       "    </tr>\n",
       "    <tr>\n",
       "      <th>4</th>\n",
       "      <td>next iphon design could look like</td>\n",
       "      <td>3</td>\n",
       "    </tr>\n",
       "    <tr>\n",
       "      <th>5</th>\n",
       "      <td>trump say parent must vaccin children face mea...</td>\n",
       "      <td>2</td>\n",
       "    </tr>\n",
       "    <tr>\n",
       "      <th>6</th>\n",
       "      <td>aveng endgam box offic surg toward first billi...</td>\n",
       "      <td>1</td>\n",
       "    </tr>\n",
       "    <tr>\n",
       "      <th>7</th>\n",
       "      <td>elon musk make deal sec discuss tesla’ financ ...</td>\n",
       "      <td>0</td>\n",
       "    </tr>\n",
       "    <tr>\n",
       "      <th>8</th>\n",
       "      <td>paypal make big marketplac play 500m invest uber</td>\n",
       "      <td>0</td>\n",
       "    </tr>\n",
       "    <tr>\n",
       "      <th>9</th>\n",
       "      <td>new skirmish california vaccin war break scien...</td>\n",
       "      <td>2</td>\n",
       "    </tr>\n",
       "    <tr>\n",
       "      <th>10</th>\n",
       "      <td>fossil friday newlydiscov callichimaera perple...</td>\n",
       "      <td>3</td>\n",
       "    </tr>\n",
       "    <tr>\n",
       "      <th>11</th>\n",
       "      <td>nfl draft grade 2019 eagl earn posit review se...</td>\n",
       "      <td>s</td>\n",
       "    </tr>\n",
       "  </tbody>\n",
       "</table>\n",
       "</div>"
      ],
      "text/plain": [
       "                                        unknown_title original_targets\n",
       "0   stock end week new high good gdp data offset p...                0\n",
       "1                netflix may say goodby offic friend                 1\n",
       "2   world health organ releas new screen guidelin ...                2\n",
       "3   nasa perform key test sl rocket necessit delay...                3\n",
       "4                  next iphon design could look like                 3\n",
       "5   trump say parent must vaccin children face mea...                2\n",
       "6   aveng endgam box offic surg toward first billi...                1\n",
       "7   elon musk make deal sec discuss tesla’ financ ...                0\n",
       "8   paypal make big marketplac play 500m invest uber                 0\n",
       "9   new skirmish california vaccin war break scien...                2\n",
       "10  fossil friday newlydiscov callichimaera perple...                3\n",
       "11  nfl draft grade 2019 eagl earn posit review se...                s"
      ]
     },
     "execution_count": 230,
     "metadata": {},
     "output_type": "execute_result"
    }
   ],
   "source": [
    "unknown_df"
   ]
  },
  {
   "cell_type": "code",
   "execution_count": 231,
   "metadata": {},
   "outputs": [],
   "source": [
    "new_test_features = unknown_df['unknown_title']\n",
    "new_test_features = vectorizer.transform(new_test_features)"
   ]
  },
  {
   "cell_type": "code",
   "execution_count": 232,
   "metadata": {},
   "outputs": [],
   "source": [
    "new_test_predictions = loaded_model.predict(new_test_features)"
   ]
  },
  {
   "cell_type": "code",
   "execution_count": 234,
   "metadata": {
    "scrolled": true
   },
   "outputs": [
    {
     "data": {
      "text/html": [
       "<div>\n",
       "<style scoped>\n",
       "    .dataframe tbody tr th:only-of-type {\n",
       "        vertical-align: middle;\n",
       "    }\n",
       "\n",
       "    .dataframe tbody tr th {\n",
       "        vertical-align: top;\n",
       "    }\n",
       "\n",
       "    .dataframe thead th {\n",
       "        text-align: right;\n",
       "    }\n",
       "</style>\n",
       "<table border=\"1\" class=\"dataframe\">\n",
       "  <thead>\n",
       "    <tr style=\"text-align: right;\">\n",
       "      <th></th>\n",
       "      <th>unknown_title</th>\n",
       "      <th>original_targets</th>\n",
       "      <th>predicted_targets</th>\n",
       "    </tr>\n",
       "  </thead>\n",
       "  <tbody>\n",
       "    <tr>\n",
       "      <th>0</th>\n",
       "      <td>stock end week new high good gdp data offset p...</td>\n",
       "      <td>0</td>\n",
       "      <td>0</td>\n",
       "    </tr>\n",
       "    <tr>\n",
       "      <th>1</th>\n",
       "      <td>netflix may say goodby offic friend</td>\n",
       "      <td>1</td>\n",
       "      <td>1</td>\n",
       "    </tr>\n",
       "    <tr>\n",
       "      <th>2</th>\n",
       "      <td>world health organ releas new screen guidelin ...</td>\n",
       "      <td>2</td>\n",
       "      <td>2</td>\n",
       "    </tr>\n",
       "    <tr>\n",
       "      <th>3</th>\n",
       "      <td>nasa perform key test sl rocket necessit delay...</td>\n",
       "      <td>3</td>\n",
       "      <td>3</td>\n",
       "    </tr>\n",
       "    <tr>\n",
       "      <th>4</th>\n",
       "      <td>next iphon design could look like</td>\n",
       "      <td>3</td>\n",
       "      <td>3</td>\n",
       "    </tr>\n",
       "    <tr>\n",
       "      <th>5</th>\n",
       "      <td>trump say parent must vaccin children face mea...</td>\n",
       "      <td>2</td>\n",
       "      <td>2</td>\n",
       "    </tr>\n",
       "    <tr>\n",
       "      <th>6</th>\n",
       "      <td>aveng endgam box offic surg toward first billi...</td>\n",
       "      <td>1</td>\n",
       "      <td>1</td>\n",
       "    </tr>\n",
       "    <tr>\n",
       "      <th>7</th>\n",
       "      <td>elon musk make deal sec discuss tesla’ financ ...</td>\n",
       "      <td>0</td>\n",
       "      <td>0</td>\n",
       "    </tr>\n",
       "    <tr>\n",
       "      <th>8</th>\n",
       "      <td>paypal make big marketplac play 500m invest uber</td>\n",
       "      <td>0</td>\n",
       "      <td>0</td>\n",
       "    </tr>\n",
       "    <tr>\n",
       "      <th>9</th>\n",
       "      <td>new skirmish california vaccin war break scien...</td>\n",
       "      <td>2</td>\n",
       "      <td>2</td>\n",
       "    </tr>\n",
       "    <tr>\n",
       "      <th>10</th>\n",
       "      <td>fossil friday newlydiscov callichimaera perple...</td>\n",
       "      <td>3</td>\n",
       "      <td>3</td>\n",
       "    </tr>\n",
       "    <tr>\n",
       "      <th>11</th>\n",
       "      <td>nfl draft grade 2019 eagl earn posit review se...</td>\n",
       "      <td>s</td>\n",
       "      <td>1</td>\n",
       "    </tr>\n",
       "  </tbody>\n",
       "</table>\n",
       "</div>"
      ],
      "text/plain": [
       "                                        unknown_title original_targets  \\\n",
       "0   stock end week new high good gdp data offset p...                0   \n",
       "1                netflix may say goodby offic friend                 1   \n",
       "2   world health organ releas new screen guidelin ...                2   \n",
       "3   nasa perform key test sl rocket necessit delay...                3   \n",
       "4                  next iphon design could look like                 3   \n",
       "5   trump say parent must vaccin children face mea...                2   \n",
       "6   aveng endgam box offic surg toward first billi...                1   \n",
       "7   elon musk make deal sec discuss tesla’ financ ...                0   \n",
       "8   paypal make big marketplac play 500m invest uber                 0   \n",
       "9   new skirmish california vaccin war break scien...                2   \n",
       "10  fossil friday newlydiscov callichimaera perple...                3   \n",
       "11  nfl draft grade 2019 eagl earn posit review se...                s   \n",
       "\n",
       "    predicted_targets  \n",
       "0                   0  \n",
       "1                   1  \n",
       "2                   2  \n",
       "3                   3  \n",
       "4                   3  \n",
       "5                   2  \n",
       "6                   1  \n",
       "7                   0  \n",
       "8                   0  \n",
       "9                   2  \n",
       "10                  3  \n",
       "11                  1  "
      ]
     },
     "execution_count": 234,
     "metadata": {},
     "output_type": "execute_result"
    }
   ],
   "source": [
    "unknown_df['predicted_targets'] = new_test_predictions\n",
    "unknown_df"
   ]
  }
 ],
 "metadata": {
  "kernelspec": {
   "display_name": "Python 3",
   "language": "python",
   "name": "python3"
  },
  "language_info": {
   "codemirror_mode": {
    "name": "ipython",
    "version": 3
   },
   "file_extension": ".py",
   "mimetype": "text/x-python",
   "name": "python",
   "nbconvert_exporter": "python",
   "pygments_lexer": "ipython3",
   "version": "3.7.3"
  }
 },
 "nbformat": 4,
 "nbformat_minor": 2
}
